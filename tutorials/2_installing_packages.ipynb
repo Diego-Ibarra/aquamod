{
 "metadata": {
  "name": "",
  "signature": "sha256:120060d7595e2b1235d1abfd14fbee5b72cd3c6d75807f506d315ee0d9b64c48"
 },
 "nbformat": 3,
 "nbformat_minor": 0,
 "worksheets": [
  {
   "cells": [
    {
     "cell_type": "markdown",
     "metadata": {},
     "source": [
      "Pre-amble: Python environments\n",
      "==============================\n",
      "\n",
      "The thing to know here is that **many Pythons can live in one computer**... and when installing a package **you need to know which Python are you installing it on**. People usially install many \"Python environments\" (or `virtualenvs`) in one computer, to allow them to monkey around in one Python without the risk of breaking something in the others.\n",
      "\n",
      "In these tutorials we use the [Anaconda Python distribution](http://continuum.io/downloads), which is (almost) always installed in its own `virtualenv` in the Anaconda directory.\n",
      "<br><br>\n",
      "\n",
      "In Windows, Anaconda is often installed in:\n",
      "\n",
      "```\n",
      "C:\\Users\\Diego\\Anaconda\n",
      "```\n",
      "\n",
      "<br>\n",
      "Mac and Linux, Anaconda is normally installed in:\n",
      "\n",
      "```\n",
      "/home/diego/anaconda\n",
      "```\n",
      "\n",
      "-------------------------\n",
      "\n"
     ]
    },
    {
     "cell_type": "markdown",
     "metadata": {},
     "source": [
      "\n",
      "Installing packages\n",
      "===================\n",
      "\n",
      "-------------------------\n",
      "\n",
      "Here we'll talk about 3 different methods to install packeges (also known as modules or libraries) in Python. In order of simplicity, they are:"
     ]
    },
    {
     "cell_type": "markdown",
     "metadata": {},
     "source": [
      "Method 1: conda\n",
      "------\n",
      "\n",
      "Anaconda comes with its own package installer called [conda](http://conda.pydata.org/docs/intro.html). If you are using Anaconda, using `conda` is the easiest way to install modules. However, not all packages can be installed using `conda`, see [List of Packages](http://docs.continuum.io/anaconda/pkg-docs.html) for a list of all avalilable packages (note that some come pre-installed).\n",
      "\n",
      "Note that `conda` will install the packages in the directory where `Anaconda` lives, and those packages may only be available to the Anaconda Python (and not to system-wide Python and/or other virtualenv environments).\n",
      "\n",
      "<br>\n",
      "\n",
      "**Example:**\n",
      "\n",
      "Supose we want to install the package called [basemap](http://matplotlib.org/basemap/). Simply open a terminal (or in Windows, the Anaconda Command Promt) and type:\n",
      "\n",
      "```\n",
      "conda install basemap\n",
      "```\n",
      "\n",
      "-----------------"
     ]
    },
    {
     "cell_type": "markdown",
     "metadata": {},
     "source": [
      "Method 2: pip\n",
      "---\n",
      "\n",
      "[pip](https://pip.readthedocs.org/en/latest/) is a program to install Python packages. It is very popular! Each Python in your computer has its own `pip`, therefore you need to know which `pip` you need to use.\n",
      "\n",
      "First identify the `pip` you want to use... in this case the `pip` of your anaconda Python. In Mac or Linux, it should be here:\n",
      "\n",
      "```\n",
      "/home/diego/anaconda/bin/pip\n",
      "```\n",
      "\n",
      "In windows it should be here:\n",
      "\n",
      "```\n",
      "C:\\Users\\Diego\\Anaconda\\Scripts\\pip\n",
      "```\n",
      "<br>\n",
      "\n",
      "**Example:**\n",
      "\n",
      "Supose we want to install the package called [Pydap](http://www.pydap.org/)...\n",
      "\n",
      "In Windows type in the 'Anaconda Command Promt':\n",
      "\n",
      "```\n",
      "C:\\Users\\Diego\\Anaconda\\Scripts\\pip install Pydap\n",
      "```\n",
      "\n",
      "<br>\n",
      "\n",
      "In Mac or Linux, type in a terminal:\n",
      "\n",
      "```\n",
      "/home/diego/anaconda/bin/pip install Pydap\n",
      "```\n",
      "\n",
      "-------------------\n"
     ]
    },
    {
     "cell_type": "markdown",
     "metadata": {},
     "source": [
      "Method 3: setup.py\n",
      "------------------\n",
      "\n",
      "Every Python should have a `setup.py` file. This file is used to install the package. `pip` and `conda` use these `setup.py` files to install packages in your computer for you. However, not all packages have been uploaded to the `pip` and `conda` repositories. Those have to be installed manually... and again, the trick is to use the \"correct\" Python.\n",
      "\n",
      "<br>\n",
      "In the example below, we still want to install a package in the Anaconda Python, but it is not available with `conda` nor with `pip`... \n",
      "\n",
      "<br>\n",
      "**Example:**\n",
      "\n",
      "To install the package called [UTide](https://github.com/wesleybowman/UTide)...\n",
      "\n",
      "<br>\n",
      "**First step: Download package**\n",
      "\n",
      "Download the package from the package's webpage (or repository)... in this case [UTide](https://github.com/wesleybowman/UTide). Note that packages are formed by many files. Sometime all the fiels are downloaded in a single \"zipped\" or compressed file. If so, you will need to \"unzip\" the file after you downloaded it.\n",
      "\n",
      "<br>\n",
      "**Second step: Install package**\n",
      "\n",
      "Open a terminal (Mac or Linux) or an `Anaconda Command Promt` (Windows) and dive into the directory containing the packages files (i.e. where the **setup.py** is located). This is achived with the `cd` command... for example:\n",
      "\n",
      "```\n",
      "cd C:\\Users\\Diego\\Downloads\\UTide\n",
      "```\n",
      "\n",
      "<br>\n",
      "\n",
      "then...\n",
      "\n",
      "<br>\n",
      "In Windows type in the 'Anaconda Command Promt':\n",
      "\n",
      "```\n",
      "C:\\Users\\Diego\\Anaconda\\python setup.py install\n",
      "```\n",
      "\n",
      "<br>\n",
      "In Mac or Linux, open a terminal and type:\n",
      "\n",
      "```\n",
      "/home/diego/anaconda/bin/python setup.py install\n",
      "```"
     ]
    },
    {
     "cell_type": "code",
     "collapsed": false,
     "input": [],
     "language": "python",
     "metadata": {},
     "outputs": []
    }
   ],
   "metadata": {}
  }
 ]
}