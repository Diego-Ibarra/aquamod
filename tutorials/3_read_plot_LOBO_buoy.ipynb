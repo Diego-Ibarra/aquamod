{
 "cells": [
  {
   "cell_type": "markdown",
   "metadata": {},
   "source": [
    "Importing data from LOBO-Buoy server\n",
    "====================================\n",
    "\n",
    "---\n",
    "\n",
    "Objectives:\n",
    "-----------\n",
    "\n",
    "    * Download data from LOBO server\n",
    "    * (if needed) transform data into a format suitable for plotting\n",
    "    * Plot time vs variable (e.g. temperature)\n",
    "    * Turn your code into function for future (easier) use\n",
    "    * Add docstrings and other relevant comments and documentation\n",
    "\n",
    "Other relevant information:\n",
    "---------------------------\n",
    "\n",
    "* [LOBO's main page](http://lobo.satlantic.com/)\n",
    "* [\"LOBOviz\" data download portal](http://lobo.satlantic.com/loboviz/)\n",
    "\n",
    "\n",
    "time to work...\n",
    "\n",
    "--------------------\n"
   ]
  },
  {
   "cell_type": "markdown",
   "metadata": {},
   "source": [
    "Getting the data\n",
    "----------------\n",
    "\n",
    "* From the [\"LOBOviz\" webpage](http://lobo.satlantic.com/loboviz/), you can select a variable (e.g. temperature) and a date range sometime during the summer.\n",
    "* Click \"Plot data\"\n",
    "* Right-click on the button \"Download tab separtaed values\" and select \"Copy link address\"\n",
    "* In python (i.e. Notebook or Spyder), \"paste\" the URL address in a variable\n"
   ]
  },
  {
   "cell_type": "code",
   "execution_count": 55,
   "metadata": {
    "collapsed": false
   },
   "outputs": [],
   "source": [
    "# URL quering the LOBO server for data (in this case, temperature data)\n",
    "URL = 'http://lobo.satlantic.com/cgi-data/nph-data.cgi?min_date=20090610&max_date=20090706&y=temperature'"
   ]
  },
  {
   "cell_type": "markdown",
   "metadata": {},
   "source": [
    "NOTE: You can see in the URL that the dates are included (i.e. min_date=20090610 and max_date=20090706) as well as the variable to query (i.e. y=temperature).\n",
    "\n",
    "Now lets use \"pandas\" to actually dowload the data..."
   ]
  },
  {
   "cell_type": "code",
   "execution_count": 56,
   "metadata": {
    "collapsed": false
   },
   "outputs": [],
   "source": [
    "import pandas as pd\n",
    "\n",
    "# Import data from LOBO server\n",
    "data = pd.read_csv(URL,sep='\\t')"
   ]
  },
  {
   "cell_type": "markdown",
   "metadata": {},
   "source": [
    "---------------------------------"
   ]
  },
  {
   "cell_type": "markdown",
   "metadata": {},
   "source": [
    "Exploring the data\n",
    "------------------\n",
    "\n",
    "Lets see what is in \"data\"..."
   ]
  },
  {
   "cell_type": "code",
   "execution_count": 57,
   "metadata": {
    "collapsed": false
   },
   "outputs": [
    {
     "data": {
      "text/html": [
       "<div>\n",
       "<table border=\"1\" class=\"dataframe\">\n",
       "  <thead>\n",
       "    <tr style=\"text-align: right;\">\n",
       "      <th></th>\n",
       "      <th>date [AST]</th>\n",
       "      <th>temperature [C]</th>\n",
       "    </tr>\n",
       "  </thead>\n",
       "  <tbody>\n",
       "    <tr>\n",
       "      <th>0</th>\n",
       "      <td>2009-06-10 00:00:00</td>\n",
       "      <td>10.26</td>\n",
       "    </tr>\n",
       "    <tr>\n",
       "      <th>1</th>\n",
       "      <td>2009-06-10 01:00:00</td>\n",
       "      <td>10.29</td>\n",
       "    </tr>\n",
       "    <tr>\n",
       "      <th>2</th>\n",
       "      <td>2009-06-10 02:00:00</td>\n",
       "      <td>10.19</td>\n",
       "    </tr>\n",
       "    <tr>\n",
       "      <th>3</th>\n",
       "      <td>2009-06-10 03:00:00</td>\n",
       "      <td>10.12</td>\n",
       "    </tr>\n",
       "    <tr>\n",
       "      <th>4</th>\n",
       "      <td>2009-06-10 04:00:00</td>\n",
       "      <td>10.08</td>\n",
       "    </tr>\n",
       "    <tr>\n",
       "      <th>5</th>\n",
       "      <td>2009-06-10 05:00:00</td>\n",
       "      <td>10.05</td>\n",
       "    </tr>\n",
       "    <tr>\n",
       "      <th>6</th>\n",
       "      <td>2009-06-10 06:00:00</td>\n",
       "      <td>9.86</td>\n",
       "    </tr>\n",
       "    <tr>\n",
       "      <th>7</th>\n",
       "      <td>2009-06-10 07:00:00</td>\n",
       "      <td>9.63</td>\n",
       "    </tr>\n",
       "    <tr>\n",
       "      <th>8</th>\n",
       "      <td>2009-06-10 08:00:00</td>\n",
       "      <td>9.77</td>\n",
       "    </tr>\n",
       "    <tr>\n",
       "      <th>9</th>\n",
       "      <td>2009-06-10 09:00:00</td>\n",
       "      <td>9.66</td>\n",
       "    </tr>\n",
       "  </tbody>\n",
       "</table>\n",
       "</div>"
      ],
      "text/plain": [
       "            date [AST]  temperature [C]\n",
       "0  2009-06-10 00:00:00            10.26\n",
       "1  2009-06-10 01:00:00            10.29\n",
       "2  2009-06-10 02:00:00            10.19\n",
       "3  2009-06-10 03:00:00            10.12\n",
       "4  2009-06-10 04:00:00            10.08\n",
       "5  2009-06-10 05:00:00            10.05\n",
       "6  2009-06-10 06:00:00             9.86\n",
       "7  2009-06-10 07:00:00             9.63\n",
       "8  2009-06-10 08:00:00             9.77\n",
       "9  2009-06-10 09:00:00             9.66"
      ]
     },
     "execution_count": 57,
     "metadata": {},
     "output_type": "execute_result"
    }
   ],
   "source": [
    "data[:10]"
   ]
  },
  {
   "cell_type": "markdown",
   "metadata": {},
   "source": [
    "Now lets disect \"data\" a bit... lets find the title (or \"keys\") of its collumns..."
   ]
  },
  {
   "cell_type": "code",
   "execution_count": 58,
   "metadata": {
    "collapsed": false
   },
   "outputs": [
    {
     "data": {
      "text/plain": [
       "Index([u'date [AST]', u'temperature [C]'], dtype='object')"
      ]
     },
     "execution_count": 58,
     "metadata": {},
     "output_type": "execute_result"
    }
   ],
   "source": [
    "data.keys()"
   ]
  },
  {
   "cell_type": "markdown",
   "metadata": {},
   "source": [
    "Lets see what is in the temperature column..."
   ]
  },
  {
   "cell_type": "code",
   "execution_count": 59,
   "metadata": {
    "collapsed": false
   },
   "outputs": [
    {
     "data": {
      "text/plain": [
       "0    10.26\n",
       "1    10.29\n",
       "2    10.19\n",
       "3    10.12\n",
       "4    10.08\n",
       "5    10.05\n",
       "6     9.86\n",
       "7     9.63\n",
       "8     9.77\n",
       "9     9.66\n",
       "Name: temperature [C], dtype: float64"
      ]
     },
     "execution_count": 59,
     "metadata": {},
     "output_type": "execute_result"
    }
   ],
   "source": [
    "data['temperature [C]'][:10]"
   ]
  },
  {
   "cell_type": "markdown",
   "metadata": {},
   "source": [
    "...and in the \"date\" column..."
   ]
  },
  {
   "cell_type": "code",
   "execution_count": 60,
   "metadata": {
    "collapsed": false
   },
   "outputs": [
    {
     "data": {
      "text/plain": [
       "0    2009-06-10 00:00:00\n",
       "1    2009-06-10 01:00:00\n",
       "2    2009-06-10 02:00:00\n",
       "3    2009-06-10 03:00:00\n",
       "4    2009-06-10 04:00:00\n",
       "5    2009-06-10 05:00:00\n",
       "6    2009-06-10 06:00:00\n",
       "7    2009-06-10 07:00:00\n",
       "8    2009-06-10 08:00:00\n",
       "9    2009-06-10 09:00:00\n",
       "Name: date [AST], dtype: object"
      ]
     },
     "execution_count": 60,
     "metadata": {},
     "output_type": "execute_result"
    }
   ],
   "source": [
    "data['date [AST]'][:10]"
   ]
  },
  {
   "cell_type": "markdown",
   "metadata": {},
   "source": [
    "...and the indices"
   ]
  },
  {
   "cell_type": "code",
   "execution_count": 61,
   "metadata": {
    "collapsed": false
   },
   "outputs": [
    {
     "data": {
      "text/plain": [
       "RangeIndex(start=0, stop=647, step=1)"
      ]
     },
     "execution_count": 61,
     "metadata": {},
     "output_type": "execute_result"
    }
   ],
   "source": [
    "data.index"
   ]
  },
  {
   "cell_type": "markdown",
   "metadata": {},
   "source": [
    "----------------------"
   ]
  },
  {
   "cell_type": "markdown",
   "metadata": {},
   "source": [
    "Plotting\n",
    "--------\n",
    "\n",
    "Ok! Now lets start with a quick plot...\n",
    "\n",
    "...but first a quick trick. You need to execute `%matplotlib inline` so that your plots appear in the Notebook."
   ]
  },
  {
   "cell_type": "code",
   "execution_count": 62,
   "metadata": {
    "collapsed": false
   },
   "outputs": [],
   "source": [
    "%matplotlib inline"
   ]
  },
  {
   "cell_type": "markdown",
   "metadata": {},
   "source": [
    "Ok, now lets do the plot..."
   ]
  },
  {
   "cell_type": "code",
   "execution_count": 63,
   "metadata": {
    "collapsed": false
   },
   "outputs": [
    {
     "data": {
      "image/png": "[encoded data removed]",
      "text/plain": [
       "<matplotlib.figure.Figure at 0xb4599b0>"
      ]
     },
     "metadata": {},
     "output_type": "display_data"
    }
   ],
   "source": [
    "#import matplotlib.pyplot as plt\n",
    "\n",
    "# ...just a quick plot\n",
    "data.plot();"
   ]
  },
  {
   "cell_type": "markdown",
   "metadata": {},
   "source": [
    "If we change the indices from \"numbers\" to \"DatetimeIndex\", then we can plot nicer!"
   ]
  },
  {
   "cell_type": "code",
   "execution_count": 64,
   "metadata": {
    "collapsed": false
   },
   "outputs": [],
   "source": [
    "# Change indices to DatetimeIndex objects\n",
    "data.index = pd.DatetimeIndex(data['date [AST]'])\n",
    "\n",
    "# Now that we made \"date indices\" we can drop the \"date\" column\n",
    "data = data.drop('date [AST]',axis=1)"
   ]
  },
  {
   "cell_type": "markdown",
   "metadata": {},
   "source": [
    "Lets see what happened...."
   ]
  },
  {
   "cell_type": "code",
   "execution_count": 65,
   "metadata": {
    "collapsed": false
   },
   "outputs": [
    {
     "data": {
      "text/plain": [
       "DatetimeIndex(['2009-06-10 00:00:00', '2009-06-10 01:00:00',\n",
       "               '2009-06-10 02:00:00', '2009-06-10 03:00:00',\n",
       "               '2009-06-10 04:00:00', '2009-06-10 05:00:00',\n",
       "               '2009-06-10 06:00:00', '2009-06-10 07:00:00',\n",
       "               '2009-06-10 08:00:00', '2009-06-10 09:00:00',\n",
       "               ...\n",
       "               '2009-07-06 14:00:00', '2009-07-06 15:00:00',\n",
       "               '2009-07-06 16:00:00', '2009-07-06 17:00:00',\n",
       "               '2009-07-06 18:00:00', '2009-07-06 19:00:00',\n",
       "               '2009-07-06 20:00:00', '2009-07-06 21:00:00',\n",
       "               '2009-07-06 22:00:00', '2009-07-06 23:00:00'],\n",
       "              dtype='datetime64[ns]', length=647, freq=None)"
      ]
     },
     "execution_count": 65,
     "metadata": {},
     "output_type": "execute_result"
    }
   ],
   "source": [
    "data.index"
   ]
  },
  {
   "cell_type": "markdown",
   "metadata": {},
   "source": [
    "Lets plot again..."
   ]
  },
  {
   "cell_type": "code",
   "execution_count": 66,
   "metadata": {
    "collapsed": false
   },
   "outputs": [
    {
     "data": {
      "text/plain": [
       "<matplotlib.axes._subplots.AxesSubplot at 0xa2e9ef0>"
      ]
     },
     "execution_count": 66,
     "metadata": {},
     "output_type": "execute_result"
    },
    {
     "data": {
      "image/png": "[encoded data removed]",
      "text/plain": [
       "<matplotlib.figure.Figure at 0xb276c18>"
      ]
     },
     "metadata": {},
     "output_type": "display_data"
    }
   ],
   "source": [
    "data.plot()"
   ]
  },
  {
   "cell_type": "markdown",
   "metadata": {},
   "source": [
    "Lets make it prettier!"
   ]
  },
  {
   "cell_type": "markdown",
   "metadata": {},
   "source": [
    "------------------------\n",
    "\n",
    "Putting it all together\n",
    "-----------------------"
   ]
  },
  {
   "cell_type": "markdown",
   "metadata": {},
   "source": [
    "Ok. NOw it is the time to put it all together... Note that I replaced the 'min_date' and 'max_date' arguments in the url for a couple of variables, so that we can easily change dates."
   ]
  },
  {
   "cell_type": "code",
   "execution_count": 67,
   "metadata": {
    "collapsed": false
   },
   "outputs": [
    {
     "data": {
      "text/plain": [
       "<matplotlib.text.Text at 0x9752f28>"
      ]
     },
     "execution_count": 67,
     "metadata": {},
     "output_type": "execute_result"
    },
    {
     "data": {
      "image/png": "[encoded data removed]",
      "text/plain": [
       "<matplotlib.figure.Figure at 0xb082f60>"
      ]
     },
     "metadata": {},
     "output_type": "display_data"
    }
   ],
   "source": [
    "import pandas as pd\n",
    "import matplotlib.pyplot as plt\n",
    "\n",
    "# Start and End dates\n",
    "mindate = '20090610'\n",
    "maxdate = '20090706'\n",
    "\n",
    "# URL quering the LOBO server for data (in this case, temperature data)\n",
    "URL = 'http://lobo.satlantic.com/cgi-data/nph-data.cgi?min_date='+mindate+'&max_date='+maxdate+'&y=temperature'\n",
    "\n",
    "# Import data from LOBO server\n",
    "data = pd.read_csv(URL,sep='\\t')\n",
    "\n",
    "# Change indices to DatetimeIndex objects\n",
    "data.index = pd.DatetimeIndex(data['date [AST]'])\n",
    "\n",
    "# Now that we made \"date indices\" we can drop the \"date\" column\n",
    "data = data.drop('date [AST]',axis=1)\n",
    "\n",
    "# ...a bit fancier plot\n",
    "data.plot(style='-r',legend=False)\n",
    "plt.title('Temperature from LOBO (Halifax, Canada)')\n",
    "plt.ylabel('Temperature (oC)')\n",
    "plt.xlabel('Dates')"
   ]
  },
  {
   "cell_type": "markdown",
   "metadata": {},
   "source": [
    "------------------------------"
   ]
  },
  {
   "cell_type": "markdown",
   "metadata": {},
   "source": [
    "# Making a function"
   ]
  },
  {
   "cell_type": "markdown",
   "metadata": {},
   "source": [
    "Now it is time to make our code into a function, note that:\n",
    "\n",
    "* At the begining, add: def NameOfFunction(arguments):\n",
    "* At the end, add: return Output\n",
    "* Indent contents\n",
    "* NOTE that we inserted `mindate` and `maxdate` in the `URL` string!!! "
   ]
  },
  {
   "cell_type": "code",
   "execution_count": 68,
   "metadata": {
    "collapsed": false
   },
   "outputs": [],
   "source": [
    "def load_temp(mindate,maxdate): \n",
    "    import pandas as pd\n",
    "    import matplotlib.pyplot as plt\n",
    "\n",
    "    # URL quering the LOBO server for data (in this case, temperature data)\n",
    "    URL = 'http://lobo.satlantic.com/cgi-data/nph-data.cgi?min_date='+mindate+'&max_date='+maxdate+'&y=temperature'\n",
    "\n",
    "    # Import data from LOBO server\n",
    "    data = pd.read_csv(URL,sep='\\t')\n",
    "\n",
    "    # Change indices to DatetimeIndex objects\n",
    "    data.index = pd.DatetimeIndex(data['date [AST]'])\n",
    "    \n",
    "    # Now that we made \"date indices\" we can drop the \"date\" column\n",
    "    data = data.drop('date [AST]',axis=1)\n",
    "\n",
    "    # ...a bit fancier plot\n",
    "    data.plot(style='-r',legend=False)\n",
    "    plt.title('Temperature from LOBO (Halifax, Canada)')\n",
    "    plt.ylabel('Temperature (oC)')\n",
    "    plt.xlabel('Dates')\n",
    "    plt.show()\n",
    "    return data"
   ]
  },
  {
   "cell_type": "markdown",
   "metadata": {},
   "source": [
    "Lets take our new function for a spin..."
   ]
  },
  {
   "cell_type": "code",
   "execution_count": 73,
   "metadata": {
    "collapsed": false
   },
   "outputs": [
    {
     "data": {
      "image/png": "[encoded data removed]",
      "text/plain": [
       "<matplotlib.figure.Figure at 0xbc67f60>"
      ]
     },
     "metadata": {},
     "output_type": "display_data"
    },
    {
     "name": "stdout",
     "output_type": "stream",
     "text": [
      "                     temperature [C]\n",
      "2009-06-16 00:00:00            11.61\n",
      "2009-06-16 01:00:00            11.59\n",
      "2009-06-16 02:00:00            11.55\n",
      "2009-06-16 03:00:00            11.30\n",
      "2009-06-16 04:00:00            11.55\n",
      "2009-06-16 05:00:00            11.57\n",
      "2009-06-16 06:00:00            11.25\n",
      "2009-06-16 07:00:00            11.63\n",
      "2009-06-16 08:00:00            12.10\n",
      "2009-06-16 09:00:00            12.06\n",
      "2009-06-16 10:00:00            12.42\n",
      "2009-06-16 11:00:00            12.69\n",
      "2009-06-16 12:00:00            12.89\n",
      "2009-06-16 13:00:00            13.02\n",
      "2009-06-16 14:00:00            13.10\n",
      "2009-06-16 15:00:00            13.07\n",
      "2009-06-16 16:00:00            13.07\n",
      "2009-06-16 17:00:00            12.98\n",
      "2009-06-16 18:00:00            13.09\n",
      "2009-06-16 19:00:00            12.83\n"
     ]
    }
   ],
   "source": [
    "mydata = load_temp('20090616','20101017')\n",
    "\n",
    "print mydata[:20]"
   ]
  },
  {
   "cell_type": "markdown",
   "metadata": {},
   "source": [
    "Some final touch-ups, like Documentation and a karg to prevent plotting... "
   ]
  },
  {
   "cell_type": "code",
   "execution_count": 70,
   "metadata": {
    "collapsed": false
   },
   "outputs": [],
   "source": [
    "def load_temp(mindate,maxdate,plot=True):\n",
    "    '''\n",
    "    Downloads data from LOBO and makes a plot.\n",
    "    \n",
    "    Arguments:\n",
    "        mindate (string): Start date\n",
    "        maxdate (string): End date\n",
    "        plot (boolean): If True, it produces a plot (default=True)\n",
    "    \n",
    "    Returns: \n",
    "        DataFrame and a plot (if `plot` argument = True)\n",
    "    '''\n",
    "    import pandas as pd\n",
    "    import matplotlib.pyplot as plt\n",
    "\n",
    "    # URL quering the LOBO server for data (in this case, temperature data)\n",
    "    URL = 'http://lobo.satlantic.com/cgi-data/nph-data.cgi?min_date='+mindate+'&max_date='+maxdate+'&y=temperature'\n",
    "\n",
    "    # Import data from LOBO server\n",
    "    data = pd.read_csv(URL,sep='\\t')\n",
    "\n",
    "    # Change indices to DatetimeIndex objects\n",
    "    data.index = pd.DatetimeIndex(data['date [AST]'])\n",
    "\n",
    "    # Now that we made \"date indices\" we can drop the \"date\" column\n",
    "    data = data.drop('date [AST]',axis=1)\n",
    "    \n",
    "    if plot==True:\n",
    "        # ...a bit fancier plot\n",
    "        data.plot(style='-r',legend=False)\n",
    "        plt.title('Temperature from LOBO (Halifax, Canada)')\n",
    "        plt.ylabel('Temperature (oC)')\n",
    "        plt.xlabel('Dates')\n",
    "        plt.show()\n",
    "        \n",
    "    return data"
   ]
  },
  {
   "cell_type": "markdown",
   "metadata": {},
   "source": [
    "Lets see if we can see the documentation...\n"
   ]
  },
  {
   "cell_type": "code",
   "execution_count": 71,
   "metadata": {
    "collapsed": false
   },
   "outputs": [],
   "source": [
    "load_temp?"
   ]
  },
  {
   "cell_type": "markdown",
   "metadata": {},
   "source": [
    "One last spin without making a plot:"
   ]
  },
  {
   "cell_type": "code",
   "execution_count": 72,
   "metadata": {
    "collapsed": false
   },
   "outputs": [
    {
     "name": "stdout",
     "output_type": "stream",
     "text": [
      "                     temperature [C]\n",
      "2009-06-10 00:00:00            10.26\n",
      "2009-06-10 01:00:00            10.29\n",
      "2009-06-10 02:00:00            10.19\n",
      "2009-06-10 03:00:00            10.12\n",
      "2009-06-10 04:00:00            10.08\n",
      "2009-06-10 05:00:00            10.05\n",
      "2009-06-10 06:00:00             9.86\n",
      "2009-06-10 07:00:00             9.63\n",
      "2009-06-10 08:00:00             9.77\n",
      "2009-06-10 09:00:00             9.66\n"
     ]
    }
   ],
   "source": [
    "mydata = load_temp('20090610','20090706',plot=False)\n",
    "\n",
    "print mydata[:10]"
   ]
  },
  {
   "cell_type": "markdown",
   "metadata": {},
   "source": [
    "Last thing... create a new file (in this directory) called lobo_YourName.py .... copy-paste your new function, so we can use it later."
   ]
  }
 ],
 "metadata": {
  "anaconda-cloud": {},
  "kernelspec": {
   "display_name": "Python [Root]",
   "language": "python",
   "name": "Python [Root]"
  },
  "language_info": {
   "codemirror_mode": {
    "name": "ipython",
    "version": 2
   },
   "file_extension": ".py",
   "mimetype": "text/x-python",
   "name": "python",
   "nbconvert_exporter": "python",
   "pygments_lexer": "ipython2",
   "version": "2.7.12"
  }
 },
 "nbformat": 4,
 "nbformat_minor": 0
}
