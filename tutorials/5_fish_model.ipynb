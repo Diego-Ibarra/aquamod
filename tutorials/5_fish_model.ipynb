{
 "cells": [
  {
   "cell_type": "code",
   "execution_count": 36,
   "metadata": {
    "collapsed": true
   },
   "outputs": [],
   "source": [
    "%matplotlib inline"
   ]
  },
  {
   "cell_type": "markdown",
   "metadata": {},
   "source": [
    "# Fish model\n",
    "\n",
    "--------------------\n",
    "\n",
    "### Setting up the model backbone\n",
    "\n",
    "Before we show/code equations... we should start by setting up a the framework... Kinda' a \"dummy\" empty model..."
   ]
  },
  {
   "cell_type": "markdown",
   "metadata": {},
   "source": [
    "<span style=\"background-color:#d2d2d2;color:red;font-size:17px\">\n",
    "Copy-paste into Spyder's EDITOR\n",
    "</span>"
   ]
  },
  {
   "cell_type": "code",
   "execution_count": 37,
   "metadata": {
    "collapsed": true
   },
   "outputs": [],
   "source": [
    "days = 365 * 2 # Two years\n",
    "dt   = 0.01 # units: days  "
   ]
  },
  {
   "cell_type": "markdown",
   "metadata": {},
   "source": [
    "<span style=\"background-color:yellow;color:blue;font-size:17px\">\n",
    "Copy-paste into Spyder's CONSOLE\n",
    "</span>"
   ]
  },
  {
   "cell_type": "code",
   "execution_count": 38,
   "metadata": {
    "collapsed": false
   },
   "outputs": [
    {
     "data": {
      "text/plain": [
       "730"
      ]
     },
     "execution_count": 38,
     "metadata": {},
     "output_type": "execute_result"
    }
   ],
   "source": [
    "days"
   ]
  },
  {
   "cell_type": "code",
   "execution_count": 39,
   "metadata": {
    "collapsed": false
   },
   "outputs": [
    {
     "data": {
      "text/plain": [
       "0.01"
      ]
     },
     "execution_count": 39,
     "metadata": {},
     "output_type": "execute_result"
    }
   ],
   "source": [
    "dt"
   ]
  },
  {
   "cell_type": "code",
   "execution_count": 40,
   "metadata": {
    "collapsed": false
   },
   "outputs": [
    {
     "data": {
      "text/plain": [
       "int"
      ]
     },
     "execution_count": 40,
     "metadata": {},
     "output_type": "execute_result"
    }
   ],
   "source": [
    "type(days)"
   ]
  },
  {
   "cell_type": "code",
   "execution_count": 41,
   "metadata": {
    "collapsed": false
   },
   "outputs": [
    {
     "data": {
      "text/plain": [
       "float"
      ]
     },
     "execution_count": 41,
     "metadata": {},
     "output_type": "execute_result"
    }
   ],
   "source": [
    "type(dt)"
   ]
  },
  {
   "cell_type": "markdown",
   "metadata": {},
   "source": [
    "--------------------------\n",
    "\n",
    "Make time vector"
   ]
  },
  {
   "cell_type": "markdown",
   "metadata": {},
   "source": [
    "<span style=\"background-color:#d2d2d2;color:red;font-size:17px\">\n",
    "Copy-paste into Spyder's EDITOR\n",
    "</span>"
   ]
  },
  {
   "cell_type": "code",
   "execution_count": 42,
   "metadata": {
    "collapsed": true
   },
   "outputs": [],
   "source": [
    "days = 365 * 2 # Two years\n",
    "dt   = 0.01 # units: days \n",
    "\n",
    "# Setup the framework    # <<<<<<<<<<<<<<<<<<<<<<<<<<<<<<<<<<<<< NEW LINE <<<<<<<<<<<<<<<<\n",
    "NoSTEPS = int(days / dt) # <<<<<<<<<<<<<<<<<<<<<<<<<<<<<<<<<<<<< NEW LINE <<<<<<<<<<<<<<<<"
   ]
  },
  {
   "cell_type": "markdown",
   "metadata": {},
   "source": [
    "<span style=\"background-color:yellow;color:blue;font-size:17px\">\n",
    "Copy-paste into Spyder's CONSOLE\n",
    "</span>"
   ]
  },
  {
   "cell_type": "code",
   "execution_count": 43,
   "metadata": {
    "collapsed": false
   },
   "outputs": [
    {
     "data": {
      "text/plain": [
       "73000"
      ]
     },
     "execution_count": 43,
     "metadata": {},
     "output_type": "execute_result"
    }
   ],
   "source": [
    "NoSTEPS"
   ]
  },
  {
   "cell_type": "code",
   "execution_count": 44,
   "metadata": {
    "collapsed": false
   },
   "outputs": [
    {
     "data": {
      "text/plain": [
       "int"
      ]
     },
     "execution_count": 44,
     "metadata": {},
     "output_type": "execute_result"
    }
   ],
   "source": [
    "type(NoSTEPS)"
   ]
  },
  {
   "cell_type": "markdown",
   "metadata": {},
   "source": [
    "<span style=\"background-color:#d2d2d2;color:red;font-size:17px\">\n",
    "Copy-paste into Spyder's EDITOR\n",
    "</span>"
   ]
  },
  {
   "cell_type": "code",
   "execution_count": 45,
   "metadata": {
    "collapsed": true
   },
   "outputs": [],
   "source": [
    "import numpy as np # <<<<<<<<<<<<<<<<<<<<<<<<<<<<<<<<<<<<<<<<<<<<<<<<<<<<< NEW LINE <<<<<<<<<<\n",
    "\n",
    "days = 365 * 2 # Two years\n",
    "dt   = 0.01 # units: days \n",
    "\n",
    "# Setup the framework\n",
    "NoSTEPS = int(days / dt)\n",
    "time = np.linspace(0,days,NoSTEPS) # <<<<<<<<<<<<<<<<<<<<<<<<<<<<<<<<<<<<< NEW LINE <<<<<<<<<<"
   ]
  },
  {
   "cell_type": "markdown",
   "metadata": {},
   "source": [
    "<span style=\"background-color:yellow;color:blue;font-size:17px\">\n",
    "Copy-paste into Spyder's CONSOLE\n",
    "</span>"
   ]
  },
  {
   "cell_type": "code",
   "execution_count": 46,
   "metadata": {
    "collapsed": false
   },
   "outputs": [
    {
     "data": {
      "text/plain": [
       "array([  0.00000000e+00,   1.00001370e-02,   2.00002740e-02, ...,\n",
       "         7.29980000e+02,   7.29990000e+02,   7.30000000e+02])"
      ]
     },
     "execution_count": 46,
     "metadata": {},
     "output_type": "execute_result"
    }
   ],
   "source": [
    "time"
   ]
  },
  {
   "cell_type": "code",
   "execution_count": 47,
   "metadata": {
    "collapsed": false
   },
   "outputs": [
    {
     "data": {
      "text/plain": [
       "0.0"
      ]
     },
     "execution_count": 47,
     "metadata": {},
     "output_type": "execute_result"
    }
   ],
   "source": [
    "time[0]"
   ]
  },
  {
   "cell_type": "code",
   "execution_count": 48,
   "metadata": {
    "collapsed": false
   },
   "outputs": [
    {
     "data": {
      "text/plain": [
       "730.0"
      ]
     },
     "execution_count": 48,
     "metadata": {},
     "output_type": "execute_result"
    }
   ],
   "source": [
    "time[-1]"
   ]
  },
  {
   "cell_type": "code",
   "execution_count": 49,
   "metadata": {
    "collapsed": false
   },
   "outputs": [
    {
     "data": {
      "text/plain": [
       "array([ 0.        ,  0.01000014,  0.02000027,  0.03000041,  0.04000055,\n",
       "        0.05000068,  0.06000082,  0.07000096,  0.0800011 ,  0.09000123])"
      ]
     },
     "execution_count": 49,
     "metadata": {},
     "output_type": "execute_result"
    }
   ],
   "source": [
    "time[:10]"
   ]
  },
  {
   "cell_type": "code",
   "execution_count": 50,
   "metadata": {
    "collapsed": false
   },
   "outputs": [
    {
     "data": {
      "text/plain": [
       "array([ 729.90999877,  729.9199989 ,  729.92999904,  729.93999918,\n",
       "        729.94999932,  729.95999945,  729.96999959,  729.97999973,\n",
       "        729.98999986,  730.        ])"
      ]
     },
     "execution_count": 50,
     "metadata": {},
     "output_type": "execute_result"
    }
   ],
   "source": [
    "time[-10:]"
   ]
  },
  {
   "cell_type": "code",
   "execution_count": 51,
   "metadata": {
    "collapsed": false
   },
   "outputs": [
    {
     "data": {
      "text/plain": [
       "numpy.ndarray"
      ]
     },
     "execution_count": 51,
     "metadata": {},
     "output_type": "execute_result"
    }
   ],
   "source": [
    "type(time)"
   ]
  },
  {
   "cell_type": "code",
   "execution_count": 52,
   "metadata": {
    "collapsed": false
   },
   "outputs": [
    {
     "data": {
      "text/plain": [
       "73000"
      ]
     },
     "execution_count": 52,
     "metadata": {},
     "output_type": "execute_result"
    }
   ],
   "source": [
    "len(time)"
   ]
  },
  {
   "cell_type": "code",
   "execution_count": 53,
   "metadata": {
    "collapsed": false
   },
   "outputs": [
    {
     "data": {
      "text/plain": [
       "(73000L,)"
      ]
     },
     "execution_count": 53,
     "metadata": {},
     "output_type": "execute_result"
    }
   ],
   "source": [
    "time.shape"
   ]
  },
  {
   "cell_type": "markdown",
   "metadata": {},
   "source": [
    "--------------------\n",
    "\n",
    "Lets make one \"dummy\" variable. For now, lets call it Biomass (B). Lets start with and empty vector."
   ]
  },
  {
   "cell_type": "markdown",
   "metadata": {},
   "source": [
    "<span style=\"background-color:#d2d2d2;color:red;font-size:17px\">\n",
    "Copy-paste into Spyder's EDITOR\n",
    "</span>"
   ]
  },
  {
   "cell_type": "code",
   "execution_count": 54,
   "metadata": {
    "collapsed": true
   },
   "outputs": [],
   "source": [
    "import numpy as np\n",
    "\n",
    "days = 365 * 2 # Two years\n",
    "dt   = 0.01 # units: days \n",
    "\n",
    "# Setup the framework\n",
    "NoSTEPS = int(days / dt)\n",
    "time = np.linspace(0,days,NoSTEPS)\n",
    "\n",
    "B = np.zeros((NoSTEPS,),float)  # <<<<<<<<<<<<<<<<<<<<<<<<<<<<<<<<<<<<< NEW LINE <<<<<<<<<<<<<<<<"
   ]
  },
  {
   "cell_type": "markdown",
   "metadata": {},
   "source": [
    "<span style=\"background-color:yellow;color:blue;font-size:17px\">\n",
    "Copy-paste into Spyder's CONSOLE\n",
    "</span>"
   ]
  },
  {
   "cell_type": "code",
   "execution_count": 55,
   "metadata": {
    "collapsed": false
   },
   "outputs": [
    {
     "data": {
      "text/plain": [
       "array([ 0.,  0.,  0., ...,  0.,  0.,  0.])"
      ]
     },
     "execution_count": 55,
     "metadata": {},
     "output_type": "execute_result"
    }
   ],
   "source": [
    "B"
   ]
  },
  {
   "cell_type": "code",
   "execution_count": 56,
   "metadata": {
    "collapsed": false
   },
   "outputs": [
    {
     "data": {
      "text/plain": [
       "numpy.ndarray"
      ]
     },
     "execution_count": 56,
     "metadata": {},
     "output_type": "execute_result"
    }
   ],
   "source": [
    "type(B)"
   ]
  },
  {
   "cell_type": "code",
   "execution_count": 57,
   "metadata": {
    "collapsed": false
   },
   "outputs": [
    {
     "data": {
      "text/plain": [
       "0.0"
      ]
     },
     "execution_count": 57,
     "metadata": {},
     "output_type": "execute_result"
    }
   ],
   "source": [
    "B[0]"
   ]
  },
  {
   "cell_type": "code",
   "execution_count": 58,
   "metadata": {
    "collapsed": false
   },
   "outputs": [
    {
     "data": {
      "text/plain": [
       "0.0"
      ]
     },
     "execution_count": 58,
     "metadata": {},
     "output_type": "execute_result"
    }
   ],
   "source": [
    "B[-1]"
   ]
  },
  {
   "cell_type": "code",
   "execution_count": 59,
   "metadata": {
    "collapsed": false
   },
   "outputs": [
    {
     "data": {
      "text/plain": [
       "array([ 0.,  0.,  0.,  0.,  0.,  0.,  0.,  0.,  0.,  0.])"
      ]
     },
     "execution_count": 59,
     "metadata": {},
     "output_type": "execute_result"
    }
   ],
   "source": [
    "B[:10]"
   ]
  },
  {
   "cell_type": "markdown",
   "metadata": {},
   "source": [
    "--------------------\n",
    "\n",
    "Make our first plot"
   ]
  },
  {
   "cell_type": "markdown",
   "metadata": {},
   "source": [
    "<span style=\"background-color:#d2d2d2;color:red;font-size:17px\">\n",
    "Copy-paste into Spyder's EDITOR\n",
    "</span>"
   ]
  },
  {
   "cell_type": "code",
   "execution_count": 60,
   "metadata": {
    "collapsed": false
   },
   "outputs": [
    {
     "data": {
      "image/png": "[encoded data removed]",
      "text/plain": [
       "<matplotlib.figure.Figure at 0x8025b70>"
      ]
     },
     "metadata": {},
     "output_type": "display_data"
    }
   ],
   "source": [
    "import numpy as np\n",
    "import matplotlib.pyplot as plt # <<<<<<<<<<<<<<<<<<<<<<<<<<<<<<<<<<<<< NEW LINE <<<<<<<<<<<<<<<<\n",
    "\n",
    "days = 365 * 2 # Two years\n",
    "dt   = 0.01 # units: days \n",
    "\n",
    "# Setup the framework\n",
    "NoSTEPS = int(days / dt)\n",
    "time = np.linspace(0,days,NoSTEPS)\n",
    "\n",
    "B = np.zeros((NoSTEPS,),float)\n",
    "\n",
    "# Make plot\n",
    "fig, (ax) = plt.subplots(1,1) # <<<<<<<<<<<<<<<<<<<<<<<<<<<<<<<<<<<<< NEW LINE <<<<<<<<<<<<<<<<"
   ]
  },
  {
   "cell_type": "markdown",
   "metadata": {},
   "source": [
    "---------------------\n",
    "\n",
    "Make initial condition for B"
   ]
  },
  {
   "cell_type": "code",
   "execution_count": 61,
   "metadata": {
    "collapsed": false
   },
   "outputs": [
    {
     "data": {
      "text/plain": [
       "[<matplotlib.lines.Line2D at 0x8025748>]"
      ]
     },
     "execution_count": 61,
     "metadata": {},
     "output_type": "execute_result"
    },
    {
     "data": {
      "image/png": "[encoded data removed]",
      "text/plain": [
       "<matplotlib.figure.Figure at 0x8025588>"
      ]
     },
     "metadata": {},
     "output_type": "display_data"
    }
   ],
   "source": [
    "import numpy as np\n",
    "import matplotlib.pyplot as plt\n",
    "\n",
    "days = 365 * 2 # Two years\n",
    "dt   = 0.01 # units: days \n",
    "\n",
    "# Setup the framework\n",
    "NoSTEPS = int(days / dt)\n",
    "time = np.linspace(0,days,NoSTEPS)\n",
    "\n",
    "B = np.zeros((NoSTEPS,),float)\n",
    "\n",
    "# Make plot\n",
    "fig, (ax) = plt.subplots(1,1)\n",
    "ax.plot(time/365,B,'b-')      # <<<<<<<<<<<<<<<<<<<<<<<<<<<<<<<<<<<<< NEW LINE <<<<<<<<<<<<<<<<"
   ]
  },
  {
   "cell_type": "code",
   "execution_count": 62,
   "metadata": {
    "collapsed": false
   },
   "outputs": [
    {
     "data": {
      "text/plain": [
       "<matplotlib.text.Text at 0x8da6b38>"
      ]
     },
     "execution_count": 62,
     "metadata": {},
     "output_type": "execute_result"
    },
    {
     "data": {
      "image/png": "[encoded data removed]",
      "text/plain": [
       "<matplotlib.figure.Figure at 0x71cb6d8>"
      ]
     },
     "metadata": {},
     "output_type": "display_data"
    }
   ],
   "source": [
    "import numpy as np\n",
    "import matplotlib.pyplot as plt\n",
    "\n",
    "days = 365 * 2 # Two years\n",
    "dt   = 0.01 # units: days \n",
    "\n",
    "# Setup the framework\n",
    "NoSTEPS = int(days / dt)\n",
    "time = np.linspace(0,days,NoSTEPS)\n",
    "\n",
    "B = np.zeros((NoSTEPS,),float)\n",
    "\n",
    "# Make plot\n",
    "fig, (ax) = plt.subplots(1,1)\n",
    "ax.plot(time/365,B,'b-')      \n",
    "ax.set_xlabel('Time (years)'); ax.set_ylabel('B') # <<<<<<<<<<<<<<<<<< NEW LINE <<<<<<<<<<<<<<<<"
   ]
  },
  {
   "cell_type": "code",
   "execution_count": 63,
   "metadata": {
    "collapsed": false
   },
   "outputs": [
    {
     "data": {
      "text/plain": [
       "<matplotlib.text.Text at 0x7fbb048>"
      ]
     },
     "execution_count": 63,
     "metadata": {},
     "output_type": "execute_result"
    },
    {
     "data": {
      "image/png": "[encoded data removed]",
      "text/plain": [
       "<matplotlib.figure.Figure at 0x71ed128>"
      ]
     },
     "metadata": {},
     "output_type": "display_data"
    }
   ],
   "source": [
    "import numpy as np\n",
    "import matplotlib.pyplot as plt\n",
    "\n",
    "days = 365 * 2 # Two years\n",
    "dt   = 0.01 # units: days\n",
    "\n",
    "# Initial conditions\n",
    "InitCond = {}       # <<<<<<<<<<<<<<<<<<<<<<<<<<<<<<<<<<<<< NEW LINE <<<<<<<<<<<<<<<<\n",
    "InitCond['B'] = 0.1 # <<<<<<<<<<<<<<<<<<<<<<<<<<<<<<<<<<<<< NEW LINE <<<<<<<<<<<<<<<<\n",
    "\n",
    "# Setup the framework\n",
    "NoSTEPS = int(days / dt)\n",
    "time = np.linspace(0,days,NoSTEPS)\n",
    "\n",
    "B = np.zeros((NoSTEPS,),float)\n",
    "\n",
    "# Make plot\n",
    "fig, (ax) = plt.subplots(1,1)\n",
    "ax.plot(time/365,B,'b-')\n",
    "ax.set_xlabel('Time (years)'); ax.set_ylabel('B')"
   ]
  },
  {
   "cell_type": "markdown",
   "metadata": {},
   "source": [
    "<span style=\"background-color:yellow;color:blue;font-size:17px\">\n",
    "Copy-paste into Spyder's CONSOLE\n",
    "</span>"
   ]
  },
  {
   "cell_type": "code",
   "execution_count": 64,
   "metadata": {
    "collapsed": false
   },
   "outputs": [
    {
     "data": {
      "text/plain": [
       "{'B': 0.1}"
      ]
     },
     "execution_count": 64,
     "metadata": {},
     "output_type": "execute_result"
    }
   ],
   "source": [
    "InitCond"
   ]
  },
  {
   "cell_type": "code",
   "execution_count": 65,
   "metadata": {
    "collapsed": false
   },
   "outputs": [
    {
     "data": {
      "text/plain": [
       "dict"
      ]
     },
     "execution_count": 65,
     "metadata": {},
     "output_type": "execute_result"
    }
   ],
   "source": [
    "type(InitCond)"
   ]
  },
  {
   "cell_type": "code",
   "execution_count": 66,
   "metadata": {
    "collapsed": false
   },
   "outputs": [
    {
     "data": {
      "text/plain": [
       "['B']"
      ]
     },
     "execution_count": 66,
     "metadata": {},
     "output_type": "execute_result"
    }
   ],
   "source": [
    "InitCond.keys()"
   ]
  },
  {
   "cell_type": "code",
   "execution_count": 67,
   "metadata": {
    "collapsed": false
   },
   "outputs": [
    {
     "data": {
      "text/plain": [
       "0.1"
      ]
     },
     "execution_count": 67,
     "metadata": {},
     "output_type": "execute_result"
    }
   ],
   "source": [
    "InitCond['B']"
   ]
  },
  {
   "cell_type": "markdown",
   "metadata": {},
   "source": [
    "-----------------\n",
    "\n",
    "Initialize B"
   ]
  },
  {
   "cell_type": "markdown",
   "metadata": {},
   "source": [
    "<span style=\"background-color:#d2d2d2;color:red;font-size:17px\">\n",
    "Copy-paste into Spyder's EDITOR\n",
    "</span>"
   ]
  },
  {
   "cell_type": "code",
   "execution_count": 68,
   "metadata": {
    "collapsed": false
   },
   "outputs": [
    {
     "data": {
      "text/plain": [
       "<matplotlib.text.Text at 0x98ea5c0>"
      ]
     },
     "execution_count": 68,
     "metadata": {},
     "output_type": "execute_result"
    },
    {
     "data": {
      "image/png": "[encoded data removed]",
      "text/plain": [
       "<matplotlib.figure.Figure at 0x8bdfa20>"
      ]
     },
     "metadata": {},
     "output_type": "display_data"
    }
   ],
   "source": [
    "import numpy as np\n",
    "import matplotlib.pyplot as plt\n",
    "\n",
    "days = 365 * 2 # Two years\n",
    "dt   = 0.01 # units: days\n",
    "\n",
    "# Initial conditions\n",
    "InitCond = {}\n",
    "InitCond['B'] = 0.1 \n",
    "\n",
    "# Setup the framework\n",
    "NoSTEPS = int(days / dt)\n",
    "time = np.linspace(0,days,NoSTEPS)\n",
    "\n",
    "B = np.zeros((NoSTEPS,),float)\n",
    "\n",
    "# Initilizing\n",
    "B[0] = InitCond['B'] # <<<<<<<<<<<<<<<<<<<<<<<<<<<<<<<<<<<<< NEW LINE <<<<<<<<<<<<<<<<\n",
    "\n",
    "# Make plot\n",
    "fig, (ax) = plt.subplots(1,1)\n",
    "ax.plot(time/365,B,'b-')\n",
    "ax.set_xlabel('Time (years)'); ax.set_ylabel('B')"
   ]
  },
  {
   "cell_type": "markdown",
   "metadata": {},
   "source": [
    "<span style=\"background-color:yellow;color:blue;font-size:17px\">\n",
    "Copy-paste into Spyder's CONSOLE\n",
    "</span>"
   ]
  },
  {
   "cell_type": "code",
   "execution_count": 69,
   "metadata": {
    "collapsed": false
   },
   "outputs": [
    {
     "data": {
      "text/plain": [
       "array([ 0.1,  0. ,  0. ,  0. ,  0. ,  0. ,  0. ,  0. ,  0. ,  0. ])"
      ]
     },
     "execution_count": 69,
     "metadata": {},
     "output_type": "execute_result"
    }
   ],
   "source": [
    "B[:10]"
   ]
  },
  {
   "cell_type": "markdown",
   "metadata": {},
   "source": [
    "------------------\n",
    "\n",
    "### MAIN MODEL LOOP\n",
    "\n",
    "Time now for the \"big enchilada!\""
   ]
  },
  {
   "cell_type": "markdown",
   "metadata": {},
   "source": [
    "<span style=\"background-color:#d2d2d2;color:red;font-size:17px\">\n",
    "Copy-paste into Spyder's EDITOR\n",
    "</span>"
   ]
  },
  {
   "cell_type": "markdown",
   "metadata": {},
   "source": [
    "First lets ad a \"for\" loop. I'll just ad a \"print\" statement for demostration purposes."
   ]
  },
  {
   "cell_type": "code",
   "execution_count": 70,
   "metadata": {
    "collapsed": false
   },
   "outputs": [
    {
     "data": {
      "text/plain": [
       "<matplotlib.text.Text at 0x9b649e8>"
      ]
     },
     "execution_count": 70,
     "metadata": {},
     "output_type": "execute_result"
    },
    {
     "data": {
      "image/png": "[encoded data removed]",
      "text/plain": [
       "<matplotlib.figure.Figure at 0x8c84048>"
      ]
     },
     "metadata": {},
     "output_type": "display_data"
    }
   ],
   "source": [
    "import numpy as np\n",
    "import matplotlib.pyplot as plt\n",
    "\n",
    "days = 365 * 2 # Two years\n",
    "dt   = 0.01 # units: days\n",
    "\n",
    "# Initial conditions\n",
    "InitCond = {}\n",
    "InitCond['B'] = 0.1 \n",
    "\n",
    "# Setup the framework\n",
    "NoSTEPS = int(days / dt)\n",
    "time = np.linspace(0,days,NoSTEPS)\n",
    "\n",
    "B = np.zeros((NoSTEPS,),float)\n",
    "\n",
    "# Initilizing\n",
    "B[0] = InitCond['B']\n",
    "\n",
    "\n",
    "# MAIN MODEL LOOP ************************************************************************\n",
    "#for t in range(0,NoSTEPS-1):\n",
    "    \n",
    "    #print t\n",
    "# end of main model LOOP******************************************************************\n",
    "\n",
    "\n",
    "\n",
    "# Make plot\n",
    "fig, (ax) = plt.subplots(1,1)\n",
    "ax.plot(time/365,B,'b-')\n",
    "ax.set_xlabel('Time (years)'); ax.set_ylabel('B')"
   ]
  },
  {
   "cell_type": "markdown",
   "metadata": {},
   "source": [
    "Lets change the \"print\" for the an actual \"dummy model\". At its minimum... it needs a `dBdt` and a `B[t+1]` equations"
   ]
  },
  {
   "cell_type": "code",
   "execution_count": 71,
   "metadata": {
    "collapsed": false
   },
   "outputs": [
    {
     "data": {
      "text/plain": [
       "<matplotlib.text.Text at 0x9e94ba8>"
      ]
     },
     "execution_count": 71,
     "metadata": {},
     "output_type": "execute_result"
    },
    {
     "data": {
      "image/png": "[encoded data removed]",
      "text/plain": [
       "<matplotlib.figure.Figure at 0x99996d8>"
      ]
     },
     "metadata": {},
     "output_type": "display_data"
    }
   ],
   "source": [
    "import numpy as np\n",
    "import matplotlib.pyplot as plt\n",
    "\n",
    "days = 365 * 2 # Two years\n",
    "dt   = 0.01 # units: days\n",
    "\n",
    "# Initial conditions\n",
    "InitCond = {}\n",
    "InitCond['B'] = 0.1 \n",
    "\n",
    "# Setup the framework\n",
    "NoSTEPS = int(days / dt)\n",
    "time = np.linspace(0,days,NoSTEPS)\n",
    "\n",
    "B = np.zeros((NoSTEPS,),float)\n",
    "\n",
    "# Initilizing\n",
    "B[0] = InitCond['B']\n",
    "\n",
    "\n",
    "# MAIN MODEL LOOP ************************************************************************\n",
    "for t in range(0,NoSTEPS-1):\n",
    "    \n",
    "    dBdt = 0\n",
    "    \n",
    "    # Time stepping\n",
    "    B[t+1] = B[t] + (dBdt * dt)\n",
    "# end of main model LOOP******************************************************************\n",
    "\n",
    "\n",
    "\n",
    "# Make plot\n",
    "fig, (ax) = plt.subplots(1,1)\n",
    "ax.plot(time/365,B,'b-')\n",
    "ax.set_xlabel('Time (years)'); ax.set_ylabel('B')"
   ]
  },
  {
   "cell_type": "markdown",
   "metadata": {},
   "source": [
    "<span style=\"background-color:yellow;color:blue;font-size:17px\">\n",
    "Copy-paste into Spyder's CONSOLE\n",
    "</span>"
   ]
  },
  {
   "cell_type": "code",
   "execution_count": 72,
   "metadata": {
    "collapsed": false
   },
   "outputs": [
    {
     "data": {
      "text/plain": [
       "array([ 0.1,  0.1,  0.1,  0.1,  0.1,  0.1,  0.1,  0.1,  0.1,  0.1])"
      ]
     },
     "execution_count": 72,
     "metadata": {},
     "output_type": "execute_result"
    }
   ],
   "source": [
    "B[:10]"
   ]
  },
  {
   "cell_type": "markdown",
   "metadata": {},
   "source": [
    "---\n",
    "\n",
    "FISH MODEL: Partial differential equations\n",
    "-----------------------------\n",
    "\n",
    "\n",
    "(1) $$ \\frac{\\partial B}{\\partial t} = A - R $$\n",
    "\n",
    "(2) $$  A = \\epsilon \\cdot  IE \\cdot AE \\cdot Food $$\n",
    "\n",
    "(3) $$  Food = \\gamma \\cdot B $$\n",
    "\n",
    "(4) $$ R = (B \\cdot m) + ( \\beta \\cdot A) $$\n",
    "\n",
    "<br><br>\n",
    "\n",
    "\n",
    "Symbol  |  ----------Units------------- |  Value | Description\n",
    ":---: | --- | --- | ---\n",
    "$B$ | $mmol N \\cdot ind^{-3}$ | Initial B = 1104 | Fish biomass\n",
    "$A$ | $mmol N \\cdot ind^{-3} \\cdot d^{-1}$ | - |Assimilation rate\n",
    "$R$ | $mmol N \\cdot ind^{-3} \\cdot d^{-1}$ | - | Respiration rate\n",
    "$Food$ | $mmol N \\cdot ind^{-3} \\cdot d^{-1}$ | - | Amount of food delivered to individual fish per day\n",
    "$\\gamma$ | $d^{-1}$ | 0.0085 | Food delivery rate\n",
    "$\\epsilon$ | $dimensionless$ | 0.92 | Fraction of food swallowed by fish (part of this is spit out)\n",
    "$IE$ | $dimensionless$ | 0.95 | Ingestion Efficiency: Fraction of swallowed food that makes it to the stomach\n",
    "$AE$ | $dimensionless$ | 0.885 | Absorption Efficiency: Fraction of ingested food that is digestible\n",
    "$m$ | $d^{-1}$ | 0.001225 | Weight-specific maintenance respiration rate\n",
    "$\\beta$ | $dimensionless$ | 0.44 | Cost of growth coefficient\n",
    "\n",
    "\n",
    "\n",
    "---"
   ]
  },
  {
   "cell_type": "markdown",
   "metadata": {},
   "source": [
    "<span style=\"background-color:#d2d2d2;color:red;font-size:17px\">\n",
    "Copy-paste into Spyder's EDITOR\n",
    "</span>"
   ]
  },
  {
   "cell_type": "code",
   "execution_count": 73,
   "metadata": {
    "collapsed": false
   },
   "outputs": [
    {
     "data": {
      "text/plain": [
       "<matplotlib.text.Text at 0xa5b7748>"
      ]
     },
     "execution_count": 73,
     "metadata": {},
     "output_type": "execute_result"
    },
    {
     "data": {
      "image/png": "[encoded data removed]",
      "text/plain": [
       "<matplotlib.figure.Figure at 0x8746588>"
      ]
     },
     "metadata": {},
     "output_type": "display_data"
    }
   ],
   "source": [
    "import numpy as np\n",
    "import matplotlib.pyplot as plt\n",
    "\n",
    "days = 365 * 2 # Two years\n",
    "dt   = 0.01 # units: days\n",
    "\n",
    "# Initial conditions\n",
    "InitCond = {}\n",
    "InitCond['B'] = 0.1 \n",
    "\n",
    "# Setup the framework\n",
    "NoSTEPS = int(days / dt)\n",
    "time = np.linspace(0,days,NoSTEPS)\n",
    "\n",
    "B = np.zeros((NoSTEPS,),float)\n",
    "\n",
    "# Initilizing\n",
    "B[0] = InitCond['B']\n",
    "\n",
    "\n",
    "# MAIN MODEL LOOP ************\n",
    "for t in range(0,NoSTEPS-1):\n",
    "    \n",
    "    A = 0    # Eq. 2 TO DO <<<<<<<<<<<<<<<<<<<<<<<<<<<<<<<<<<< NEW LINE <<<<<<<<<<<<<<<<<<<<<<<<<<\n",
    "    R = 0    # Eq. 3 TO DO <<<<<<<<<<<<<<<<<<<<<<<<<<<<<<<<<<< NEW LINE <<<<<<<<<<<<<<<<<<<<<<<<<<\n",
    "    \n",
    "    dBdt = A - R # Eq.1<<<<<<<<<<<<<<<<<<<<<<<<<<<<<<<<<<<<< NEW LINE <<<<<<<<<<<<<<<<<<<<<<<<<<\n",
    "    \n",
    "    # Time stepping\n",
    "    B[t+1] = B[t] + (dBdt * dt)\n",
    "# end of main model LOOP******\n",
    "\n",
    "\n",
    "\n",
    "# Make plot\n",
    "fig, (ax) = plt.subplots(1,1)\n",
    "ax.plot(time/365,B,'b-')\n",
    "ax.set_xlabel('Time (years)'); ax.set_ylabel('B')"
   ]
  },
  {
   "cell_type": "markdown",
   "metadata": {},
   "source": [
    "------------\n",
    "\n",
    "Ad parameters\n",
    "\n"
   ]
  },
  {
   "cell_type": "code",
   "execution_count": 74,
   "metadata": {
    "collapsed": false
   },
   "outputs": [
    {
     "data": {
      "text/plain": [
       "<matplotlib.text.Text at 0xac4fa20>"
      ]
     },
     "execution_count": 74,
     "metadata": {},
     "output_type": "execute_result"
    },
    {
     "data": {
      "image/png": "[encoded data removed]",
      "text/plain": [
       "<matplotlib.figure.Figure at 0x80d6390>"
      ]
     },
     "metadata": {},
     "output_type": "display_data"
    }
   ],
   "source": [
    "import numpy as np\n",
    "import matplotlib.pyplot as plt\n",
    "\n",
    "days = 365 * 2 # Two years\n",
    "dt   = 0.01 # units: days\n",
    "\n",
    "# Parameters\n",
    "par = {}         # <<<<<<<<<<<<<<<<<<<<<<<<<<<<<<<<<<<<< NEW LINE <<<<<<<<<<<<<<<<<<<<<<<<<<\n",
    "par['gamma'] = 0.0085 # <<<<<<<<<<<<<<<<<<<<<<<<<<<<<<<<<<<<< NEW LINE <<<<<<<<<<<<<<<<<<<<<<<<<<\n",
    "par['epsilon'] = 0.92 # <<<<<<<<<<<<<<<<<<<<<<<<<<<<<<<<<<<<< NEW LINE <<<<<<<<<<<<<<<<<<<<<<<<<<\n",
    "par['IE'] = 0.95 # <<<<<<<<<<<<<<<<<<<<<<<<<<<<<<<<<<<<< NEW LINE <<<<<<<<<<<<<<<<<<<<<<<<<<\n",
    "par['AE'] = 0.885 # <<<<<<<<<<<<<<<<<<<<<<<<<<<<<<<<<<<<< NEW LINE <<<<<<<<<<<<<<<<<<<<<<<<<<\n",
    "par['m'] = 0.001225 # <<<<<<<<<<<<<<<<<<<<<<<<<<<<<<<<<<<<< NEW LINE <<<<<<<<<<<<<<<<<<<<<<<<<<\n",
    "par['beta'] = 0.44 # <<<<<<<<<<<<<<<<<<<<<<<<<<<<<<<<<<<<< NEW LINE <<<<<<<<<<<<<<<<<<<<<<<<<<\n",
    "\n",
    "# Initial conditions\n",
    "InitCond = {}\n",
    "InitCond['B'] = 0.1\n",
    "\n",
    "# Setup the framework\n",
    "NoSTEPS = int(days / dt)\n",
    "time = np.linspace(0,days,NoSTEPS)\n",
    "\n",
    "B = np.zeros((NoSTEPS,),float)\n",
    "\n",
    "# Initilizing\n",
    "B[0] = InitCond['B']\n",
    "\n",
    "\n",
    "# MAIN MODEL LOOP ************\n",
    "for t in range(0,NoSTEPS-1):\n",
    "    \n",
    "    A = 0    # Eq. 2 TO DO \n",
    "    R = 0    # Eq. 3 TO DO \n",
    "    \n",
    "    dBdt = A - R # Eq.1\n",
    "    \n",
    "    # Time stepping\n",
    "    B[t+1] = B[t] + (dBdt * dt)\n",
    "# end of main model LOOP******\n",
    "\n",
    "\n",
    "\n",
    "# Make plot\n",
    "fig, (ax) = plt.subplots(1,1)\n",
    "ax.plot(time/365,B,'b-')\n",
    "ax.set_xlabel('Time (years)'); ax.set_ylabel('B')"
   ]
  },
  {
   "cell_type": "code",
   "execution_count": 75,
   "metadata": {
    "collapsed": false
   },
   "outputs": [
    {
     "data": {
      "text/plain": [
       "{'AE': 0.885,\n",
       " 'IE': 0.95,\n",
       " 'beta': 0.44,\n",
       " 'epsilon': 0.92,\n",
       " 'gamma': 0.0085,\n",
       " 'm': 0.001225}"
      ]
     },
     "execution_count": 75,
     "metadata": {},
     "output_type": "execute_result"
    }
   ],
   "source": [
    "par"
   ]
  },
  {
   "cell_type": "code",
   "execution_count": 76,
   "metadata": {
    "collapsed": false
   },
   "outputs": [
    {
     "data": {
      "text/plain": [
       "['AE', 'epsilon', 'm', 'beta', 'IE', 'gamma']"
      ]
     },
     "execution_count": 76,
     "metadata": {},
     "output_type": "execute_result"
    }
   ],
   "source": [
    "par.keys()"
   ]
  },
  {
   "cell_type": "code",
   "execution_count": 77,
   "metadata": {
    "collapsed": false
   },
   "outputs": [
    {
     "data": {
      "text/plain": [
       "dict"
      ]
     },
     "execution_count": 77,
     "metadata": {},
     "output_type": "execute_result"
    }
   ],
   "source": [
    "type(par)"
   ]
  },
  {
   "cell_type": "markdown",
   "metadata": {},
   "source": [
    "----------------\n",
    "\n",
    "Add Assimilation Eq."
   ]
  },
  {
   "cell_type": "code",
   "execution_count": 78,
   "metadata": {
    "collapsed": false
   },
   "outputs": [
    {
     "data": {
      "text/plain": [
       "<matplotlib.text.Text at 0xae96e48>"
      ]
     },
     "execution_count": 78,
     "metadata": {},
     "output_type": "execute_result"
    },
    {
     "data": {
      "image/png": "[encoded data removed]",
      "text/plain": [
       "<matplotlib.figure.Figure at 0x8639ac8>"
      ]
     },
     "metadata": {},
     "output_type": "display_data"
    }
   ],
   "source": [
    "import numpy as np\n",
    "import matplotlib.pyplot as plt\n",
    "\n",
    "days = 365 * 2 # Two years\n",
    "dt   = 0.01 # units: days\n",
    "\n",
    "# Initial conditions\n",
    "InitCond = {}\n",
    "InitCond['B'] = 0.1 \n",
    "\n",
    "# Setup the framework\n",
    "NoSTEPS = int(days / dt)\n",
    "time = np.linspace(0,days,NoSTEPS)\n",
    "\n",
    "B = np.zeros((NoSTEPS,),float)\n",
    "\n",
    "# Initilizing\n",
    "B[0] = InitCond['B']\n",
    "\n",
    "\n",
    "# MAIN MODEL LOOP ************\n",
    "for t in range(0,NoSTEPS-1):\n",
    "    \n",
    "    Food = 1  # TO DO # <<<<<<<<<<<<<<<<<<<<<<<<<<<<<<<<<<<<< NEW LINE <<<<<<<<<<<<<<<<<<<<<<<<\n",
    "    A = par['epsilon'] * par['IE'] * par['AE'] * Food  # <<<<<<<<<<<<<<<< NEW LINE <<<<<<<<<<<<\n",
    "    R = 0    # TO DO \n",
    "    \n",
    "    dBdt = A - R \n",
    "    \n",
    "    # Time stepping\n",
    "    B[t+1] = B[t] + (dBdt * dt)\n",
    "# end of main model LOOP******\n",
    "\n",
    "\n",
    "\n",
    "# Make plot\n",
    "fig, (ax) = plt.subplots(1,1)\n",
    "ax.plot(time/365,B,'b-')\n",
    "ax.set_xlabel('Time (years)'); ax.set_ylabel('B')"
   ]
  },
  {
   "cell_type": "markdown",
   "metadata": {},
   "source": [
    "-------------\n",
    "\n",
    "Ad Food Eq."
   ]
  },
  {
   "cell_type": "code",
   "execution_count": 79,
   "metadata": {
    "collapsed": false
   },
   "outputs": [
    {
     "data": {
      "text/plain": [
       "<matplotlib.text.Text at 0xb22f780>"
      ]
     },
     "execution_count": 79,
     "metadata": {},
     "output_type": "execute_result"
    },
    {
     "data": {
      "image/png": "[encoded data removed]",
      "text/plain": [
       "<matplotlib.figure.Figure at 0x86396d8>"
      ]
     },
     "metadata": {},
     "output_type": "display_data"
    }
   ],
   "source": [
    "import numpy as np\n",
    "import matplotlib.pyplot as plt\n",
    "\n",
    "days = 365 * 2 # Two years\n",
    "dt   = 0.01 # units: days\n",
    "\n",
    "# Initial conditions\n",
    "InitCond = {}\n",
    "InitCond['B'] = 0.1 \n",
    "\n",
    "# Setup the framework\n",
    "NoSTEPS = int(days / dt)\n",
    "time = np.linspace(0,days,NoSTEPS)\n",
    "\n",
    "B = np.zeros((NoSTEPS,),float)\n",
    "\n",
    "# Initilizing\n",
    "B[0] = InitCond['B']\n",
    "\n",
    "\n",
    "# MAIN MODEL LOOP ************\n",
    "for t in range(0,NoSTEPS-1):\n",
    "    \n",
    "    Food = par['gamma'] * B[t]  #  <<<<<<<<<<<<<<<<<<<<<<<<<<<<<<<<< NEW LINE <<<<<<<<<<<<<<<<<<\n",
    "    A = par['epsilon'] * par['IE'] * par['AE'] * Food  \n",
    "    R = 0    # TO DO \n",
    "    \n",
    "    dBdt = A - R \n",
    "    \n",
    "    # Time stepping\n",
    "    B[t+1] = B[t] + (dBdt * dt)\n",
    "# end of main model LOOP******\n",
    "\n",
    "\n",
    "\n",
    "# Make plot\n",
    "fig, (ax) = plt.subplots(1,1)\n",
    "ax.plot(time/365,B,'b-')\n",
    "ax.set_xlabel('Time (years)'); ax.set_ylabel('B')"
   ]
  },
  {
   "cell_type": "code",
   "execution_count": 80,
   "metadata": {
    "collapsed": false
   },
   "outputs": [
    {
     "data": {
      "text/plain": [
       "<matplotlib.text.Text at 0xb388710>"
      ]
     },
     "execution_count": 80,
     "metadata": {},
     "output_type": "execute_result"
    },
    {
     "data": {
      "image/png": "[encoded data removed]",
      "text/plain": [
       "<matplotlib.figure.Figure at 0x6f893c8>"
      ]
     },
     "metadata": {},
     "output_type": "display_data"
    }
   ],
   "source": [
    "import numpy as np\n",
    "import matplotlib.pyplot as plt\n",
    "\n",
    "days = 365 * 2 # Two years\n",
    "dt   = 0.01 # units: days\n",
    "\n",
    "# Initial conditions\n",
    "InitCond = {}\n",
    "InitCond['B'] = 0.1 \n",
    "\n",
    "# Setup the framework\n",
    "NoSTEPS = int(days / dt)\n",
    "time = np.linspace(0,days,NoSTEPS)\n",
    "\n",
    "B = np.zeros((NoSTEPS,),float)\n",
    "\n",
    "# Initilizing\n",
    "B[0] = InitCond['B']\n",
    "\n",
    "\n",
    "# MAIN MODEL LOOP ************\n",
    "for t in range(0,NoSTEPS-1):\n",
    "    \n",
    "    Food = par['gamma'] * B[t]\n",
    "    A = par['epsilon'] * par['IE'] * par['AE'] * Food \n",
    "    \n",
    "    R = (par['m']* B[t]) + (par['beta']*A)   #  <<<<<<<<<<<<<<<<<<< NEW LINE <<<<<<<<<<<<<<<<<< \n",
    "    \n",
    "    dBdt = A - R \n",
    "    \n",
    "    # Time stepping\n",
    "    B[t+1] = B[t] + (dBdt * dt)\n",
    "# end of main model LOOP******\n",
    "\n",
    "\n",
    "\n",
    "# Make plot\n",
    "fig, (ax) = plt.subplots(1,1)\n",
    "ax.plot(time/365,B,'b-')\n",
    "ax.set_xlabel('Time (years)'); ax.set_ylabel('B')"
   ]
  },
  {
   "cell_type": "code",
   "execution_count": null,
   "metadata": {
    "collapsed": true
   },
   "outputs": [],
   "source": []
  }
 ],
 "metadata": {
  "kernelspec": {
   "display_name": "Python [Root]",
   "language": "python",
   "name": "Python [Root]"
  },
  "language_info": {
   "codemirror_mode": {
    "name": "ipython",
    "version": 2
   },
   "file_extension": ".py",
   "mimetype": "text/x-python",
   "name": "python",
   "nbconvert_exporter": "python",
   "pygments_lexer": "ipython2",
   "version": "2.7.12"
  }
 },
 "nbformat": 4,
 "nbformat_minor": 0
}
