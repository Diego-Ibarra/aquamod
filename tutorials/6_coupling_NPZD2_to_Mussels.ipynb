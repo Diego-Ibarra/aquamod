{
 "cells": [
  {
   "cell_type": "code",
   "execution_count": null,
   "metadata": {
    "collapsed": true
   },
   "outputs": [],
   "source": [
    "%matplotlib inline"
   ]
  },
  {
   "cell_type": "markdown",
   "metadata": {},
   "source": [
    "# TUTORIAL coupling NPZD2 and Mussels\n",
    "\n",
    "-----------------------\n",
    "\n",
    "First create a new file by \"Saving-as\" NPDZ.py witha new name... lets call the new file NPZD2_Mussels.py\n",
    "\n",
    "From now on, we are going to copy-paste from Mussels.py to the new NPZD2_Mussels.py\n",
    "\n",
    "------------------------------\n",
    "\n",
    "Copy-paste **parameters** from Mussels.py to NPZD2_Mussels.py Copy-paste the \"Mussel\" parameters just below the \"NPZD2\" parameters. The new code should look like this: \n"
   ]
  },
  {
   "cell_type": "code",
   "execution_count": null,
   "metadata": {
    "collapsed": true
   },
   "outputs": [],
   "source": [
    "    # Parameters\n",
    "    par = {}\n",
    "    par['mu0']    = 0.69  \n",
    "    par['kNO3']    = 0.5    \n",
    "    par['kNH4']    = 0.5  \n",
    "    par['alpha']    = 0.125  \n",
    "    par['gmax'] = 0.6  #Original 0.6\n",
    "    par['kP']       = 0.44\n",
    "    par['mP']   = 0.15    \n",
    "    par['tau']   = 0.005 \n",
    "    par['thetaMax']   = 0.053\n",
    "    par['beta']    = 0.75 \n",
    "    par['lBM']    = 0.1    \n",
    "    par['lE']   = 0.1\n",
    "    par['mZ']  = 0.25\n",
    "    par['rSD']    = 0.3 # Original 0.03\n",
    "    par['rLD'] = 0.1 # # Original 0.01\n",
    "    par['nmax'] = 0.05\n",
    "    par['kI'] = 0.1\n",
    "    par['I0']  = 0.0095\n",
    "    # Parameters Mussels\n",
    "    par['AE_P']    = 0.9  \n",
    "    par['AE_D']    = 0.2    \n",
    "    par['AE_Z']    = 0.3  \n",
    "    par['Bpub']    = 0.43  \n",
    "    par['Fmax_ref'] = 0.025\n",
    "    par['GT']       = 0.44\n",
    "    par['KTempH']   = 0.1    \n",
    "    par['KTempL']   = 0.5 \n",
    "    par['KSaltL']   = 0.25\n",
    "    par['KOxyL']    = 0.02 \n",
    "    par['KFood']    = 1.    \n",
    "    par['KRE']   = 0.86\n",
    "    par['OxyL']  = 17.5\n",
    "    par['Rm']    = 0.002\n",
    "    par['SaltL'] = 10.\n",
    "    par['TempH'] = 25.\n",
    "    par['TempL'] = -4.\n",
    "    par['beta']  = 0.12\n",
    "    par['epsilonP'] = 1.\n",
    "    par['epsilonD'] = 0.5\n",
    "    par['epsilonZ'] = 0.3"
   ]
  },
  {
   "cell_type": "markdown",
   "metadata": {},
   "source": [
    "Copy-paste **InitCond** from Mussels.py to NPZD2_Mussels.py Copy-paste the \"Mussel\" InitCond just below the \"NPZD2\" InitCond.\n",
    "\n",
    "Note that now there are duplicate InitCond... do not copy the Mussel InitCond that are already in NPZD2 (i.e. Temp, Phy, Zoo, SDet)\n",
    "\n",
    "The new code should look like this:"
   ]
  },
  {
   "cell_type": "code",
   "execution_count": null,
   "metadata": {
    "collapsed": true
   },
   "outputs": [],
   "source": [
    "    # Initial conditions\n",
    "    InitCond = {}\n",
    "    InitCond['Phy'] = 0.2\n",
    "    InitCond['Zoo'] = 0.1\n",
    "    InitCond['SDet'] = 1. \n",
    "    InitCond['LDet'] = 1.\n",
    "    InitCond['NH4'] = 0.1\n",
    "    InitCond['NO3'] = 7.\n",
    "    InitCond['Temp'] = 6.\n",
    "    #InitCond['O2'] = 0.5\n",
    "    InitCond['Soma'] = 0.01\n",
    "    InitCond['Gonad'] = 0.\n",
    "    InitCond['Salt'] = 30. #Salinity\n",
    "    InitCond['Oxy'] = 30. #Oxygen "
   ]
  },
  {
   "cell_type": "markdown",
   "metadata": {},
   "source": [
    "Copy-paste **zero vectors** from Mussels.py to NPZD2_Mussels.py Copy-paste the \"Mussel\" zero-vectors just below the \"NPZD2\" zero-vectors.\n",
    "\n",
    "Same as above, note that now there are duplicate zero-vectors... do not copy the Mussel zero-vectors that are already in NPZD2 (i.e. Temp, Phy, Zoo, SDet)\n",
    "\n",
    "The new code should look like this:"
   ]
  },
  {
   "cell_type": "code",
   "execution_count": null,
   "metadata": {
    "collapsed": true
   },
   "outputs": [],
   "source": [
    "    # Create zero-vectors\n",
    "    Phy = np.zeros((NoSTEPS,),float) # makes a vector array of zeros (size: NoSTEPS rows by ONE column)\n",
    "    Zoo = np.zeros((NoSTEPS,),float) # same as above\n",
    "    SDet = np.zeros((NoSTEPS,),float) # Biomass - same as above \n",
    "    LDet = np.zeros((NoSTEPS,),float) # same as above\n",
    "    NH4 = np.zeros((NoSTEPS,),float) # same as above\n",
    "    NO3 = np.zeros((NoSTEPS,),float) # same as above\n",
    "    I  = np.zeros((NoSTEPS,),float) # same as above\n",
    "    \n",
    "    mu = np.zeros((NoSTEPS,),float) # same as above\n",
    "    f_I = np.zeros((NoSTEPS,),float) # same as above\n",
    "    L_NO3 = np.zeros((NoSTEPS,),float) # same as above\n",
    "    L_NH4 = np.zeros((NoSTEPS,),float) # same as above\n",
    "    TotN = np.zeros((NoSTEPS,),float) # same as above\n",
    "    \n",
    "    # Mussels\n",
    "    Soma = np.zeros((NoSTEPS,),float) # makes a vector array of zeros (size: NoSTEPS rows by ONE column)\n",
    "    Gonad = np.zeros((NoSTEPS,),float) # same as above\n",
    "    B = np.zeros((NoSTEPS,),float) # Biomass - same as above \n",
    "    L_Temp = np.zeros((NoSTEPS,),float) # same as above\n",
    "    L_Salt = np.zeros((NoSTEPS,),float) # same as above\n",
    "    L_Oxy = np.zeros((NoSTEPS,),float) # same as above\n",
    "    L_Food = np.zeros((NoSTEPS,),float) # same as above\n",
    "    F = np.zeros((NoSTEPS,),float) # same as above\n",
    "    A = np.zeros((NoSTEPS,),float) # same as above\n",
    "    R = np.zeros((NoSTEPS,),float) # same as above\n",
    "    RE = np.zeros((NoSTEPS,),float) # same as above\n",
    "    Spawning = np.zeros((NoSTEPS,),float) # same as above"
   ]
  },
  {
   "cell_type": "markdown",
   "metadata": {},
   "source": [
    "Copy-paste the section **\"Initializing with initial conditions\"** from Mussels.py to NPZD2_Mussels.py\n",
    "\n",
    "Copy-paste the \"Mussel\" section just below the one for \"NPZD2\".\n",
    "\n",
    "The new code should look like this:"
   ]
  },
  {
   "cell_type": "code",
   "execution_count": null,
   "metadata": {
    "collapsed": true
   },
   "outputs": [],
   "source": [
    "    # Initializing with initial conditions\n",
    "    Phy[0] = InitCond['Phy']\n",
    "    Zoo[0] = InitCond['Zoo']\n",
    "    SDet[0] = InitCond['SDet']\n",
    "    LDet[0] = InitCond['LDet']\n",
    "    NH4[0] = InitCond['NH4']\n",
    "    NO3[0] = InitCond['NO3']\n",
    "    # Mussels\n",
    "    Soma[0] = InitCond['Soma']\n",
    "    Gonad[0] = InitCond['Soma']\n",
    "    B[0] = InitCond['Soma'] + InitCond['Gonad']\n",
    "    Spawning[0] = 0.\n",
    "    Salt = np.ones((NoSTEPS,),float) * InitCond['Salt']#Salinity\n",
    "    Oxy = np.ones((NoSTEPS,),float) * InitCond['Oxy'] #Oxygen"
   ]
  },
  {
   "cell_type": "markdown",
   "metadata": {},
   "source": [
    "Copy-paste **\"Update and step\"** from Mussels.py to NPZD2_Mussels.py Copy-paste the \"Mussel\" \"Update and step\" just below the one for \"NPZD2\".\n",
    "\n",
    "The new code should look like this:"
   ]
  },
  {
   "cell_type": "code",
   "execution_count": null,
   "metadata": {
    "collapsed": true
   },
   "outputs": [],
   "source": [
    "        # Update and step ----------------------------------------------------\n",
    "        Phy[t+1]  = Phy[t]  + (dPhydt * dt)\n",
    "        Zoo[t+1]  = Zoo[t]  + (dZoodt * dt)\n",
    "        SDet[t+1] = SDet[t] + (dSDetdt * dt)\n",
    "        LDet[t+1] = LDet[t] + (dLDetdt * dt)\n",
    "        NH4[t+1]  = NH4[t]  + (dNH4dt * dt)\n",
    "        NO3[t+1]  = NO3[t] +  (dNO3dt * dt)\n",
    "        if NO3[t+1] <= 0.0001:\n",
    "            offset = NO3[t+1]\n",
    "            NH4[t+1] = NH4[t+1] + offset\n",
    "            NO3[t+1] = NO3[t+1] - offset\n",
    "        # Mussels\n",
    "        Soma[t+1] = Soma[t] + (dSomadt * dt)\n",
    "        Gonad[t+1] = Gonad[t] + (dGonaddt * dt) - Spawning[t]\n",
    "        B[t+1] = Soma[t+1] + Gonad[t+1]"
   ]
  },
  {
   "cell_type": "markdown",
   "metadata": {},
   "source": [
    "Copy-paste **MAIN MODEL LOOP** from Mussels.py to NPZD2_Mussels.py Copy-paste the \"Mussel\" MAIN MODEL LOOP just below the one for \"NPZD2\"\n",
    "\n",
    "\n",
    "The new code should look like this:"
   ]
  },
  {
   "cell_type": "code",
   "execution_count": null,
   "metadata": {
    "collapsed": true
   },
   "outputs": [],
   "source": [
    "    # *****************************************************************************\n",
    "    # MAIN MODEL LOOP *************************************************************\n",
    "    for t in range(0,NoSTEPS-1):\n",
    "        muMax = par['mu0'] * (1.066 ** Temp[t]) # text\n",
    "        \n",
    "        f_I[t] = (par['alpha']*I[t])/(np.sqrt(muMax**2+((par['alpha']**2)*(I[t]**2)))) #Eq5\n",
    "        \n",
    "        L_NO3[t] = max(0,((NO3[t])/(par['kNO3']*NO3[t])) * (1/(1+(NH4[t]/par['kNH4'])))) #Eq3\n",
    "        \n",
    "        L_NH4[t] = max(0,NH4[t]/(par['kNH4']+NH4[t])) # Eq 4\n",
    "    \n",
    "        mu[t] =muMax * f_I[t] * (L_NO3[t] + L_NH4[t]) # Eq2\n",
    "    \n",
    "        g = par['gmax'] * (Phy[t]**2/(par['kP']+(Phy[t]**2)))\n",
    "        \n",
    "        n = par['nmax'] * (1 - max(0,(I[t]-par['I0'])/(par['kI']+I[t]-par['I0'])))\n",
    "    \n",
    "        dPhydt = (mu[t] * Phy[t]) - \\\n",
    "                 (g  * Zoo[t]) - \\\n",
    "                 (par['mP'] * Phy[t]) - \\\n",
    "                 (par['tau']*(SDet[t]+Phy[t])*Phy[t]) # Eq1\n",
    "                 \n",
    "        dZoodt = (g * par['beta'] * Zoo[t]) - \\\n",
    "                 (par['lBM']*Zoo[t]) - \\\n",
    "                 (par['lE']*((Phy[t]**2)/(par['kP']+(Phy[t]**2)))*par['beta']*Zoo[t]) - \\\n",
    "                 (par['mZ']*(Zoo[t]**2))#Eq10\n",
    "                 \n",
    "        dSDetdt = (g * (1-par['beta']) * Zoo[t]) + \\\n",
    "                  (par['mZ']*(Zoo[t]**2)) + \\\n",
    "                  (par['mP'] * Phy[t]) - \\\n",
    "                  (par['tau']*(SDet[t]+Phy[t])*SDet[t]) - \\\n",
    "                  (par['rSD']*SDet[t])\n",
    "                  \n",
    "        dLDetdt = (par['tau']*((SDet[t]+Phy[t])**2)) - \\\n",
    "                  (par['rLD']*LDet[t])\n",
    "                  \n",
    "        dNO3dt = -(muMax * f_I[t] * L_NO3[t] * Phy[t]) + \\\n",
    "                  (n * NH4[t])\n",
    "                 \n",
    "        dNH4dt = -(muMax * f_I[t] * L_NH4[t] * Phy[t]) - \\\n",
    "                  (n * NH4[t]) + \\\n",
    "                  (par['lBM'] * Zoo[t]) + \\\n",
    "                  (par['lE']*((Phy[t]**2)/(par['kP']+(Phy[t]**2)))*par['beta']*Zoo[t]) + \\\n",
    "                  (par['rSD']*SDet[t]) + \\\n",
    "                  (par['rLD']*LDet[t])\n",
    "\n",
    "\n",
    "        # MUSSELS -------------------------------------------------------------\n",
    "        # Calculate Temperature Limitation\n",
    "        L_Temp[t] = min(max(0.,1.-np.exp(-par['KTempL']*(Temp[t]-par['TempL']))), \\\n",
    "                     max(0.,1.+((1.-np.exp(par['KTempH']*Temp[t]))/(np.exp(par['KTempH']*par['TempH'])-1.))))\n",
    "        \n",
    "        # Calculate Salinity Limitation\n",
    "        L_Salt[t] = max(0.,1.-np.exp(-par['KSaltL']*(Salt[t]-par['SaltL'])))\n",
    "        \n",
    "        # Calculate Oxygen Limitation\n",
    "        L_Oxy[t] = max(0.,1.-np.exp(-par['KOxyL']*(Oxy[t]-par['OxyL'])))\n",
    "        \n",
    "        # Calculate Oxygen Limitation\n",
    "        L_Food[t] = (Phy[t]+Zoo[t]+SDet[t])/(par['KFood']+Phy[t]+Zoo[t]+SDet[t])\n",
    "        \n",
    "        # Calculate Filtration rate\n",
    "        Fmax  = par['Fmax_ref']*(B[t]**(2./3.))\n",
    "        \n",
    "        F[t] = Fmax * L_Temp[t] * L_Salt[t] * L_Oxy[t] * L_Food[t]\n",
    "        \n",
    "        A[t] = F[t] * ((par['epsilonP']*par['AE_P']*Phy[t])+ \\\n",
    "                       (par['epsilonZ']*par['AE_Z']*Zoo[t])+ \\\n",
    "                       (par['epsilonD']*par['AE_D']*SDet[t]))\n",
    "        \n",
    "        R[t] = (par['Rm']*B[t]) + (par['beta']*A[t])\n",
    "        \n",
    "        RE[t] = max(0., (B[t]-par['Bpub'])/(par['KRE'] + B[t] - (2.*par['Bpub'])))\n",
    "        \n",
    "        # Spawning\n",
    "        if Gonad[t]/B[t] < par['GT']:\n",
    "            Spawning[t] = 0.\n",
    "            dGonaddt = (A[t]-R[t]) * RE[t]\n",
    "            dSomadt =  (A[t]-R[t]) * (1.-RE[t])\n",
    "        elif Gonad[t]/B[t] >= par['GT']:         \n",
    "            Spawning[t] = Gonad[t]\n",
    "            dGonaddt = 0.\n",
    "            dSomadt = A[t]-R[t]"
   ]
  },
  {
   "cell_type": "markdown",
   "metadata": {},
   "source": [
    "Copy-paste section **\"Pack to output\"** from Mussels.py to NPZD2_Mussels.py Copy-paste the \"Mussel\" section just below the one for \"NPZD2\". Note that they are duplicates, son;t copy the duplicates (just Soma, Gonad, B, and Spawning).\n",
    "\n",
    "The new code should look like this:"
   ]
  },
  {
   "cell_type": "code",
   "execution_count": null,
   "metadata": {
    "collapsed": true
   },
   "outputs": [],
   "source": [
    "    # Pack output into dictionary\n",
    "    output = {}\n",
    "    output['time'] = time\n",
    "    output['Phy'] = Phy\n",
    "    output['Zoo'] = Zoo\n",
    "    output['SDet'] = SDet\n",
    "    output['LDet'] = LDet\n",
    "    output['NH4'] = NH4\n",
    "    output['NO3'] = NO3\n",
    "    output['mu'] = mu\n",
    "    output['f_I'] = f_I\n",
    "    output['L_NO3'] = L_NO3\n",
    "    output['L_NH4'] = L_NH4\n",
    "    output['TotN'] = TotN\n",
    "    output['Soma'] = Soma\n",
    "    output['Gonad'] = Gonad\n",
    "    output['B'] = B\n",
    "    output['Spawning'] = Spawning"
   ]
  },
  {
   "cell_type": "markdown",
   "metadata": {},
   "source": [
    "Update plot by adding to the plotting code for ax2:\n",
    "\n",
    "```\n",
    "ax2.plot(output['time']/365,output['B'],'r.')\n",
    "\n",
    "```\n",
    "\n",
    "The new code should look like this:"
   ]
  },
  {
   "cell_type": "code",
   "execution_count": null,
   "metadata": {
    "collapsed": true
   },
   "outputs": [],
   "source": [
    "    ax2.plot(output['time']/365,output['Phy'],'g-')\n",
    "    ax2.plot(output['time']/365,output['Zoo'],'r-')\n",
    "    ax2.plot(output['time']/365,output['SDet'],'k-')\n",
    "    ax2.plot(output['time']/365,output['LDet'],'k-.')\n",
    "    ax2.plot(output['time']/365,output['NH4'],'m-')\n",
    "    ax2.plot(output['time']/365,output['NO3'],'c-')\n",
    "    ax2.plot(output['time']/365,output['TotN'],'y-')\n",
    "    ax2.plot(output['time']/365,output['B'],'r.')\n",
    "    ax2.set_xlabel('Time (years)')\n",
    "    ax2.set_ylabel('Nitrogen (mmol N m$^{-3}$)')\n",
    "    ax2.set_title('Fennel et al 2006 Model')\n",
    "    plt.legend(['Phy','Zoo','SDet','LDet','NH4','NO3','TotN','B'])"
   ]
  },
  {
   "cell_type": "markdown",
   "metadata": {},
   "source": [
    "Run the model so that you can see a plot.\n",
    "\n",
    "* Anything changed?\n",
    "\n",
    "* Is total nitrogen conserved?\n",
    "\n",
    "* Are you sure?\n",
    "\n",
    "\"B\" is not accounted for in the Total Nitrogen calculation.\n",
    "\n",
    "Add \"B[t+1]\" to the \"Total Nitrogen calculation. The new code should look like this:"
   ]
  },
  {
   "cell_type": "code",
   "execution_count": null,
   "metadata": {
    "collapsed": true
   },
   "outputs": [],
   "source": [
    "        # Estimate Total Nitrogen\n",
    "        TotN[t+1] = Phy[t+1] + Zoo[t+1] + SDet[t+1] + LDet[t+1] + NH4[t+1] + NO3[t+1] + B[t+1]"
   ]
  },
  {
   "cell_type": "markdown",
   "metadata": {},
   "source": [
    "Run the model to plot again\n",
    "\n",
    "* Is total nitrogen conserved?\n",
    "\n",
    "We added Mussels to NPZD2, but they are not connected yet. \"Food\" is eaten by the mussels but are not taken out of the NPZD2 pool.\n",
    "\n",
    "To connect them, we have to add extra terms to our original equations. Below, as an example, es the original Phytoplankton equation and then the new equation with an added term to account for mussel filtration. \n",
    "\n",
    "(original from Fennel et al. 2006)\n",
    "\n",
    "$$ \\frac{\\partial Phy}{\\partial t} = \\mu Phy - gZoo - m_P Phy - \\tau (SDet -Phy)Phy$$\n",
    "\n",
    "(new) $$ \\frac{\\partial Phy}{\\partial t} = \\mu Phy - gZoo - m_P Phy - \\tau (SDet -Phy)Phy - F \\epsilon_P Phy$$\n",
    "\n",
    "To actually code the \"feedback\", we need to add code to Ad Feaces to LDet, eat Phy/Zoo/SDet... and excrete into NH4. The new code goes after \"Spawning\" but before \"Update and setep. Also, we need to add spawning to Zoo.\n",
    "\n",
    "The new code should look like this:"
   ]
  },
  {
   "cell_type": "code",
   "execution_count": null,
   "metadata": {
    "collapsed": true
   },
   "outputs": [],
   "source": [
    "        # Spawning\n",
    "        if Gonad[t]/B[t] < par['GT']:\n",
    "            Spawning[t] = 0.\n",
    "            dGonaddt = (A[t]-R[t]) * RE[t]\n",
    "            dSomadt =  (A[t]-R[t]) * (1.-RE[t])\n",
    "        elif Gonad[t]/B[t] >= par['GT']:         \n",
    "            Spawning[t] = Gonad[t]\n",
    "            dGonaddt = 0.\n",
    "            dSomadt = A[t]-R[t]\n",
    "\n",
    "        #Feedback to NPZD2 model\n",
    "        # Faeces and Pseudofaeces\n",
    "        Fae = F[t] * ((par['epsilonP']*(1-par['AE_P'])*Phy[t])+ \\\n",
    "                     (par['epsilonZ']*(1-par['AE_Z'])*Zoo[t])+ \\\n",
    "                     (par['epsilonD']*(1-par['AE_D'])*SDet[t]))\n",
    "        dLDetdt = dLDetdt + Fae      \n",
    "                  \n",
    "        # Remove eaten Phy, Zoo and SDet from water-column\n",
    "        dPhydt =  dPhydt-(F[t] *par['epsilonP']*Phy[t])\n",
    "        dZoodt =  dZoodt-(F[t] *par['epsilonZ']*Zoo[t])\n",
    "        dSDetdt = dSDetdt -(F[t] *par['epsilonD']*SDet[t])\n",
    "        \n",
    "        # Excretion into Ammonia\n",
    "        dNH4dt = dNH4dt + R[t]\n",
    "        \n",
    "\n",
    "        # Update and step ----------------------------------------------------\n",
    "        Phy[t+1]  = Phy[t]  + (dPhydt * dt)\n",
    "        Zoo[t+1]  = Zoo[t]  + (dZoodt * dt) + Spawning[t]\n",
    "        SDet[t+1] = SDet[t] + (dSDetdt * dt)\n",
    "        LDet[t+1] = LDet[t] + (dLDetdt * dt)\n",
    "        NH4[t+1]  = NH4[t]  + (dNH4dt * dt)\n",
    "        NO3[t+1]  = NO3[t] +  (dNO3dt * dt)\n",
    "        if NO3[t+1] <= 0.0001:\n",
    "            offset = NO3[t+1]\n",
    "            NH4[t+1] = NH4[t+1] + offset\n",
    "            NO3[t+1] = NO3[t+1] - offset\n",
    "        # Mussels\n",
    "        Soma[t+1] = Soma[t] + (dSomadt * dt)\n",
    "        Gonad[t+1] = Gonad[t] + (dGonaddt * dt) - Spawning[t]\n",
    "        B[t+1] = Soma[t+1] + Gonad[t+1]"
   ]
  },
  {
   "cell_type": "markdown",
   "metadata": {},
   "source": [
    "Run the model to plot again\n",
    "\n",
    "* Is total nitrogen conserved?\n",
    "\n",
    "* How many time mussels spawn in a summer?\n",
    "\n",
    "* Is phytoplankton eaten by the \"spawned\" mussel larvae? ...can you see it in the Phy series?"
   ]
  },
  {
   "cell_type": "code",
   "execution_count": null,
   "metadata": {
    "collapsed": true
   },
   "outputs": [],
   "source": []
  }
 ],
 "metadata": {
  "anaconda-cloud": {},
  "kernelspec": {
   "display_name": "Python [Root]",
   "language": "python",
   "name": "Python [Root]"
  },
  "language_info": {
   "codemirror_mode": {
    "name": "ipython",
    "version": 2
   },
   "file_extension": ".py",
   "mimetype": "text/x-python",
   "name": "python",
   "nbconvert_exporter": "python",
   "pygments_lexer": "ipython2",
   "version": "2.7.12"
  }
 },
 "nbformat": 4,
 "nbformat_minor": 0
}
