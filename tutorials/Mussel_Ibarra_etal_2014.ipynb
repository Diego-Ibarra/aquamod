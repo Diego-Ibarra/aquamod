{
 "cells": [
  {
   "cell_type": "code",
   "execution_count": 928,
   "metadata": {
    "collapsed": true
   },
   "outputs": [],
   "source": [
    "%matplotlib inline"
   ]
  },
  {
   "cell_type": "code",
   "execution_count": 929,
   "metadata": {
    "collapsed": false
   },
   "outputs": [],
   "source": [
    "import numpy as np\n",
    "\n",
    "# Framework\n",
    "days = 365 * 1\n",
    "dt   = 0.01 # units: days\n",
    "\n",
    "# Parameters\n",
    "par = {}\n",
    "par['AE_P']    = 0.9  # growth rate of pythoplankton (units: d^-1)\n",
    "par['AE_D']    = 0.2    # half-saturation for nutrient absoption by pythoplankton (units: mmolN m^-3)\n",
    "par['AE_Z']    = 0.3  # growth rate of zooplankton (units: d^-1)\n",
    "par['Bpub']    = 0.43  # initial slope of ingestion saturation of zooplankton (units: mmol N^-1 m^3)\n",
    "par['Fmax_ref'] = 0.025# initial slope of P vs I curve (units: {mmolN m^-3}^-1)\n",
    "par['GT']       = 0.44\n",
    "par['KTempH']   = 0.1    # half-saturation for phytoplankton absoption by mussels (units: mmolN m^-3)\n",
    "par['KTempL']   = 0.5 # mortality rate of pythoplankton (units: d^-1)\n",
    "par['KSaltL']   = 0.25 # mortality rate of zooplankton (units: d^-1)\n",
    "par['KOxyL']    = 0.02 # mortality rate of zooplankton (units: d^-1)\n",
    "par['KFood']    = 1.    # half-saturation for phytoplankton feeding by mussels due to mussel size (units: mmolN m^-3)\n",
    "par['KRE']   = 0.86    # half-saturation for phytoplankton feeding by mussels (units: mmolN m^-3)\n",
    "par['OxyL']  = 17.5\n",
    "par['Rm']    = 0.002\n",
    "par['SaltL'] = 10.\n",
    "par['TempH'] = 25.\n",
    "par['TempL'] = -4.\n",
    "par['beta']  = 0.12\n",
    "par['epsilonP'] = 1.\n",
    "par['epsilonD'] = 0.5\n",
    "par['epsilonZ'] = 0.3\n",
    "# These are, for now, constant parameters. But will eventually Initial Conditions\n",
    "par['Temp'] = 10. #Temperature\n",
    "par['Salt'] = 30. #Salinity\n",
    "par['Oxy'] = 30. #Oxygen\n",
    "par['Phy'] = 10. #Phyto\n",
    "par['Zoo'] = 1. #Zoo\n",
    "par['SDet'] = 1. #SDet\n",
    "\n",
    "# Initial conditions\n",
    "Init = np.zeros(4)\n",
    "Init[0] = 1. #Soma\n",
    "Init[1] = 0.5 #Gonad\n",
    "Init[2] = Init[0] + Init[1] #Biomass\n",
    "\n",
    "# Chores (calculate timestemps, create zero vectors, create time vector)\n",
    "NoSTEPS = int(days / dt) # Calculates the number of steps by dividing days by dt and rounding down\n",
    "t = np.linspace(0,days,NoSTEPS) # Makes and vector array of equally spaced numbers from zero to \"days\""
   ]
  },
  {
   "cell_type": "code",
   "execution_count": 930,
   "metadata": {
    "collapsed": false
   },
   "outputs": [],
   "source": [
    "def Mussel_Ibarra(Init,t,par):\n",
    "    '''\n",
    "    '''\n",
    "    import numpy as np\n",
    "    \n",
    "    # Initializing with initial conditions\n",
    "    Soma = Init[0] #Soma\n",
    "    Gonad = Init[1] #Gonad\n",
    "    B = Init[2] #Biomass\n",
    "    \n",
    "    # More.. Initializing with initial conditions (using constant parameters)\n",
    "    Temp = par['Temp']\n",
    "    Salt = par['Salt']\n",
    "    Oxy = par['Oxy']\n",
    "    Phy = par['Phy']\n",
    "    Zoo = par['Zoo']\n",
    "    SDet = par['SDet']\n",
    "    \n",
    "    # Create empty arrays\n",
    "    dxdt = np.zeros(4)\n",
    "    \n",
    "    # Calculate Temperature Limitation\n",
    "    L_Temp = min(max(0.,1.-np.exp(-par['KTempL']*(Temp-par['TempL']))), \\\n",
    "                 max(0.,1.+((1.-np.exp(par['KTempH']*Temp))/(np.exp(par['KTempH']*par['TempH'])-1.))))\n",
    "    \n",
    "    # Calculate Salinity Limitation\n",
    "    L_Salt = max(0.,1.-np.exp(-par['KSaltL']*(Salt-par['SaltL'])))\n",
    "    \n",
    "    # Calculate Oxygen Limitation\n",
    "    L_Oxy = max(0.,1.-np.exp(-par['KOxyL']*(Oxy-par['OxyL'])))\n",
    "    \n",
    "    # Calculate Oxygen Limitation\n",
    "    L_Food = (Phy+Zoo+SDet)/(par['KFood']+Phy+Zoo+SDet)\n",
    "    \n",
    "    # Calculate Filtration rate\n",
    "    Fmax  = par['Fmax_ref']*(B**(2./3.))\n",
    "    \n",
    "    F = Fmax * L_Temp * L_Salt * L_Oxy * L_Food\n",
    "    \n",
    "    A = F * ((par['epsilonP']*par['AE_P']*Phy)+ \\\n",
    "             (par['epsilonZ']*par['AE_Z']*Zoo)+ \\\n",
    "             (par['epsilonD']*par['AE_D']*SDet))\n",
    "    \n",
    "    R = (par['Rm']*B) + (par['beta']*A)\n",
    "    \n",
    "    RE = max(0., (B-par['Bpub'])/(par['KRE'] + B - (2.*par['Bpub'])))\n",
    "    \n",
    "    # Spawning\n",
    "#     print Gonad/B\n",
    "    if Gonad/B < par['GT']:\n",
    "        Spawning = 0.\n",
    "    elif Gonad/B >= par['GT'] and B>par['Bpub']:\n",
    "        Spawning = Gonad\n",
    "        Gonad = 0.\n",
    "    \n",
    "#     Soma = (A-R) * (1.-RE)\n",
    "#     Gonad =  ((A-R) * RE) - Spawning\n",
    "#     B = Soma + Gonad\n",
    "    \n",
    "    dxdt[0] = (A-R) * (1.-RE)\n",
    "    dxdt[1] = ((A-R) * RE) - Spawning\n",
    "    dxdt[2] = ((A-R) * (1.-RE))+(((A-R) * RE) - Spawning)\n",
    "    \n",
    "    return dxdt"
   ]
  },
  {
   "cell_type": "code",
   "execution_count": 931,
   "metadata": {
    "collapsed": false
   },
   "outputs": [],
   "source": [
    "from scipy.integrate import odeint\n",
    "import matplotlib.pyplot as plt\n",
    "\n",
    "# Run the model\n",
    "dxdt = odeint(Mussel_Ibarra, Init, t, args=(par,), hmax=dt, hmin=dt)\n",
    "\n"
   ]
  },
  {
   "cell_type": "code",
   "execution_count": 932,
   "metadata": {
    "collapsed": false
   },
   "outputs": [
    {
     "data": {
      "image/png": "[encoded data removed]",
      "text/plain": [
       "<matplotlib.figure.Figure at 0x885d320>"
      ]
     },
     "metadata": {},
     "output_type": "display_data"
    }
   ],
   "source": [
    "# Plotting\n",
    "fig, (ax) = plt.subplots(1,1)\n",
    "ax.plot(t,dxdt[:,0],'b-')\n",
    "ax.plot(t,dxdt[:,1],'g-')\n",
    "ax.plot(t,dxdt[:,2],'r-')\n",
    "plt.show()"
   ]
  }
 ],
 "metadata": {
  "kernelspec": {
   "display_name": "Python [Root]",
   "language": "python",
   "name": "Python [Root]"
  },
  "language_info": {
   "codemirror_mode": {
    "name": "ipython",
    "version": 2
   },
   "file_extension": ".py",
   "mimetype": "text/x-python",
   "name": "python",
   "nbconvert_exporter": "python",
   "pygments_lexer": "ipython2",
   "version": "2.7.12"
  }
 },
 "nbformat": 4,
 "nbformat_minor": 0
}
